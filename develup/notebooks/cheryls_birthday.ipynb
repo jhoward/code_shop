{
 "cells": [
  {
   "cell_type": "code",
   "execution_count": 1,
   "metadata": {},
   "outputs": [],
   "source": [
    "from IPython.core.display import display, HTML\n",
    "from functools import partial\n",
    "from functools import cache\n",
    "\n",
    "MONTHS = ['January', 'Febuary', 'March', \n",
    "          'April', 'May', 'June',\n",
    "          'July', 'August', 'September', \n",
    "          'October', 'November', 'December']\n",
    "MONTHS_IDX = {month: idx for idx, month in enumerate(MONTHS)}\n",
    "\n",
    "def parse_month(date):\n",
    "    return date.split(\" \")[0]\n",
    "\n",
    "def parse_day(date):\n",
    "    return date.split(\" \")[1]\n",
    "\n",
    "def create_grid_list(dates, pruned={}):\n",
    "    \"Turn the set of dates into a list to populate for the display grid.\"\n",
    "    months = sorted(list(set(parse_month(date) for date in dates)), \n",
    "                    key=lambda month: MONTHS_IDX[month])\n",
    "    days = sorted(list(set(parse_day(date) for date in dates)),\n",
    "              key=lambda day: int(day))\n",
    "\n",
    "    grid_list = []\n",
    "    for m in months:\n",
    "        grid_list.append(str(m))\n",
    "        for d in days:\n",
    "            test_date = m + \" \" + d\n",
    "            if test_date in dates:\n",
    "                if test_date in pruned:\n",
    "                    grid_list.append('-')\n",
    "                else:\n",
    "                    grid_list.append(\"O\")\n",
    "            else:\n",
    "                grid_list.append(\" \")\n",
    "\n",
    "    return grid_list, months, days\n",
    "\n",
    "def show(dates, pruned={}):\n",
    "    grid_list, months, days = create_grid_list(dates, pruned)\n",
    "    num_months = len(months)\n",
    "    num_days = len(days)\n",
    "#     print(([''] + days))\n",
    "    CSS = '''<style>\n",
    "        .dStyle td {width:2em; height:2em; border:1px solid grey; text-align:center}\n",
    "        .dStyle td:first-child {border-left:solid}\n",
    "        .dStyle td:nth-child(1) {border-right:solid}\n",
    "        .dStyle td:last-child {border-right:solid}\n",
    "        .dStyle tr:first-child  {border-top:solid}\n",
    "        .dStyle tr:nth-child(1) {border-bottom:solid}\n",
    "        .dStyle tr:last-child {border-bottom:solid}\n",
    "        </style>'''\n",
    "    table = ('<table class=\"dStyle\">' + '<tr>' + (num_days+1) * '<td>{}').format(*([''] + days))\n",
    "    table += num_months * ('<tr>' + (num_days+1) * '<td>{}') + '</table>'\n",
    "    display(HTML(CSS + table.format(*grid_list)))\n",
    "    \n"
   ]
  },
  {
   "cell_type": "code",
   "execution_count": 2,
   "metadata": {},
   "outputs": [
    {
     "data": {
      "text/html": [
       "<style>\n",
       "        .dStyle td {width:2em; height:2em; border:1px solid grey; text-align:center}\n",
       "        .dStyle td:first-child {border-left:solid}\n",
       "        .dStyle td:nth-child(1) {border-right:solid}\n",
       "        .dStyle td:last-child {border-right:solid}\n",
       "        .dStyle tr:first-child  {border-top:solid}\n",
       "        .dStyle tr:nth-child(1) {border-bottom:solid}\n",
       "        .dStyle tr:last-child {border-bottom:solid}\n",
       "        </style><table class=\"dStyle\"><tr><td><td>14<td>15<td>16<td>17<td>18<td>19<tr><td>May<td> <td>O<td>O<td> <td> <td>O<tr><td>June<td> <td> <td> <td>O<td>O<td> <tr><td>July<td>O<td> <td>-<td> <td> <td> <tr><td>August<td>-<td>O<td> <td>O<td> <td> </table>"
      ],
      "text/plain": [
       "<IPython.core.display.HTML object>"
      ]
     },
     "metadata": {},
     "output_type": "display_data"
    }
   ],
   "source": [
    "cheryl_dates = {\n",
    "    'May 15',    'May 16',    'May 19',\n",
    "    'June 17',   'June 18',\n",
    "    'July 14',   'July 16',\n",
    "    'August 14', 'August 15', 'August 17'}\n",
    "\n",
    "pruned = {'August 14', 'July 16'}\n",
    "show(cheryl_dates, pruned)"
   ]
  },
  {
   "cell_type": "code",
   "execution_count": 3,
   "metadata": {},
   "outputs": [],
   "source": [
    "def tell(part):\n",
    "    \"Cheryl tells a part of her birthdate; return a subset of DATES that match the part.\"\n",
    "    return {date for date in DATES if part in date}\n",
    "\n",
    "def know(possible_dates):\n",
    "    \"A person knows the birthdate if they know there is exactly one possible date.\"\n",
    "    return len(possible_dates) == 1\n",
    "\n",
    "def hear(possible_dates, *statements):\n",
    "    \"Return the subset of possible dates that are consistent with all the statements.\"\n",
    "    return {date for date in possible_dates\n",
    "            if all(stmt(date) for stmt in statements)}\n",
    "\n",
    "def using(dates):\n",
    "    \"Make dates be the value of the global variable DATES.\"\n",
    "    global DATES # This is necessary because `tell` looks at `DATES`\n",
    "    DATES = dates\n",
    "    return dates\n",
    "\n",
    "def show_with_statements(dates, statements):\n",
    "    using(dates)\n",
    "    return_set = hear(dates, *statements)\n",
    "    show(dates, dates - \n",
    "         hear(dates, *statements))\n",
    "    return return_set\n",
    "\n",
    "def show_progression(dates, statements):\n",
    "    using(dates)\n",
    "    for i in range(len(statements) + 1):\n",
    "        if i > 0: \n",
    "            print(\"\\n\\n\")\n",
    "            if type(statements[i-1]) is partial:\n",
    "                print(statements[i-1].func.__doc__)\n",
    "            else:\n",
    "                print(statements[i-1].__doc__)\n",
    "        return_set = show_with_statements(dates, statements[:i])\n",
    "    return return_set"
   ]
  },
  {
   "cell_type": "code",
   "execution_count": 4,
   "metadata": {},
   "outputs": [],
   "source": [
    "def albert1(date):\n",
    "    \"Albert: I don't know when Cheryl's birthday is, but I know that Bernard does not know too.\"\n",
    "    after_being_told = tell(parse_month(date))\n",
    "    return (not know(after_being_told) \n",
    "            and all(not know(tell(parse_day(d)))\n",
    "                    for d in after_being_told))\n",
    "\n",
    "def bernard1(date):\n",
    "    \"Bernard: At first I don't know when Cheryl's birthday is, but I know now.\"\n",
    "    at_first = tell(parse_day(date))\n",
    "    return (not know(at_first)\n",
    "            and know(hear(at_first, albert1)))\n",
    "\n",
    "def albert2(date):\n",
    "    \"Albert: Then I also know when Cheryl's birthday is.\"\n",
    "    return know(hear(tell(parse_month(date)), bernard1))"
   ]
  },
  {
   "cell_type": "code",
   "execution_count": 5,
   "metadata": {},
   "outputs": [
    {
     "data": {
      "text/html": [
       "<style>\n",
       "        .dStyle td {width:2em; height:2em; border:1px solid grey; text-align:center}\n",
       "        .dStyle td:first-child {border-left:solid}\n",
       "        .dStyle td:nth-child(1) {border-right:solid}\n",
       "        .dStyle td:last-child {border-right:solid}\n",
       "        .dStyle tr:first-child  {border-top:solid}\n",
       "        .dStyle tr:nth-child(1) {border-bottom:solid}\n",
       "        .dStyle tr:last-child {border-bottom:solid}\n",
       "        </style><table class=\"dStyle\"><tr><td><td>14<td>15<td>16<td>17<td>18<td>19<tr><td>May<td> <td>O<td>O<td> <td> <td>O<tr><td>June<td> <td> <td> <td>O<td>O<td> <tr><td>July<td>O<td> <td>O<td> <td> <td> <tr><td>August<td>O<td>O<td> <td>O<td> <td> </table>"
      ],
      "text/plain": [
       "<IPython.core.display.HTML object>"
      ]
     },
     "metadata": {},
     "output_type": "display_data"
    },
    {
     "name": "stdout",
     "output_type": "stream",
     "text": [
      "\n",
      "\n",
      "\n",
      "Albert: I don't know when Cheryl's birthday is, but I know that Bernard does not know too.\n"
     ]
    },
    {
     "data": {
      "text/html": [
       "<style>\n",
       "        .dStyle td {width:2em; height:2em; border:1px solid grey; text-align:center}\n",
       "        .dStyle td:first-child {border-left:solid}\n",
       "        .dStyle td:nth-child(1) {border-right:solid}\n",
       "        .dStyle td:last-child {border-right:solid}\n",
       "        .dStyle tr:first-child  {border-top:solid}\n",
       "        .dStyle tr:nth-child(1) {border-bottom:solid}\n",
       "        .dStyle tr:last-child {border-bottom:solid}\n",
       "        </style><table class=\"dStyle\"><tr><td><td>14<td>15<td>16<td>17<td>18<td>19<tr><td>May<td> <td>-<td>-<td> <td> <td>-<tr><td>June<td> <td> <td> <td>-<td>-<td> <tr><td>July<td>O<td> <td>O<td> <td> <td> <tr><td>August<td>O<td>O<td> <td>O<td> <td> </table>"
      ],
      "text/plain": [
       "<IPython.core.display.HTML object>"
      ]
     },
     "metadata": {},
     "output_type": "display_data"
    },
    {
     "name": "stdout",
     "output_type": "stream",
     "text": [
      "\n",
      "\n",
      "\n",
      "Bernard: At first I don't know when Cheryl's birthday is, but I know now.\n"
     ]
    },
    {
     "data": {
      "text/html": [
       "<style>\n",
       "        .dStyle td {width:2em; height:2em; border:1px solid grey; text-align:center}\n",
       "        .dStyle td:first-child {border-left:solid}\n",
       "        .dStyle td:nth-child(1) {border-right:solid}\n",
       "        .dStyle td:last-child {border-right:solid}\n",
       "        .dStyle tr:first-child  {border-top:solid}\n",
       "        .dStyle tr:nth-child(1) {border-bottom:solid}\n",
       "        .dStyle tr:last-child {border-bottom:solid}\n",
       "        </style><table class=\"dStyle\"><tr><td><td>14<td>15<td>16<td>17<td>18<td>19<tr><td>May<td> <td>-<td>-<td> <td> <td>-<tr><td>June<td> <td> <td> <td>-<td>-<td> <tr><td>July<td>-<td> <td>O<td> <td> <td> <tr><td>August<td>-<td>O<td> <td>O<td> <td> </table>"
      ],
      "text/plain": [
       "<IPython.core.display.HTML object>"
      ]
     },
     "metadata": {},
     "output_type": "display_data"
    },
    {
     "name": "stdout",
     "output_type": "stream",
     "text": [
      "\n",
      "\n",
      "\n",
      "Albert: Then I also know when Cheryl's birthday is.\n"
     ]
    },
    {
     "data": {
      "text/html": [
       "<style>\n",
       "        .dStyle td {width:2em; height:2em; border:1px solid grey; text-align:center}\n",
       "        .dStyle td:first-child {border-left:solid}\n",
       "        .dStyle td:nth-child(1) {border-right:solid}\n",
       "        .dStyle td:last-child {border-right:solid}\n",
       "        .dStyle tr:first-child  {border-top:solid}\n",
       "        .dStyle tr:nth-child(1) {border-bottom:solid}\n",
       "        .dStyle tr:last-child {border-bottom:solid}\n",
       "        </style><table class=\"dStyle\"><tr><td><td>14<td>15<td>16<td>17<td>18<td>19<tr><td>May<td> <td>-<td>-<td> <td> <td>-<tr><td>June<td> <td> <td> <td>-<td>-<td> <tr><td>July<td>-<td> <td>O<td> <td> <td> <tr><td>August<td>-<td>-<td> <td>-<td> <td> </table>"
      ],
      "text/plain": [
       "<IPython.core.display.HTML object>"
      ]
     },
     "metadata": {},
     "output_type": "display_data"
    },
    {
     "data": {
      "text/plain": [
       "{'July 16'}"
      ]
     },
     "execution_count": 5,
     "metadata": {},
     "output_type": "execute_result"
    }
   ],
   "source": [
    "cheryl_statements = [albert1, bernard1, albert2]\n",
    "dates = cheryl_dates\n",
    "show_progression(dates, cheryl_statements)"
   ]
  },
  {
   "cell_type": "code",
   "execution_count": 6,
   "metadata": {},
   "outputs": [
    {
     "data": {
      "text/html": [
       "<style>\n",
       "        .dStyle td {width:2em; height:2em; border:1px solid grey; text-align:center}\n",
       "        .dStyle td:first-child {border-left:solid}\n",
       "        .dStyle td:nth-child(1) {border-right:solid}\n",
       "        .dStyle td:last-child {border-right:solid}\n",
       "        .dStyle tr:first-child  {border-top:solid}\n",
       "        .dStyle tr:nth-child(1) {border-bottom:solid}\n",
       "        .dStyle tr:last-child {border-bottom:solid}\n",
       "        </style><table class=\"dStyle\"><tr><td><td>13<td>14<td>16<td>19<td>24<td>25<td>26<td>27<td>29<tr><td>March<td> <td> <td> <td> <td>O<td>O<td>O<td>O<td> <tr><td>April<td> <td> <td> <td>O<td>O<td> <td> <td> <td>O<tr><td>May<td> <td>O<td> <td> <td> <td> <td> <td>O<td> <tr><td>June<td>O<td> <td> <td> <td>O<td>O<td>O<td> <td> <tr><td>July<td> <td>O<td>O<td> <td> <td> <td> <td> <td> </table>"
      ],
      "text/plain": [
       "<IPython.core.display.HTML object>"
      ]
     },
     "metadata": {},
     "output_type": "display_data"
    },
    {
     "name": "stdout",
     "output_type": "stream",
     "text": [
      "\n",
      "\n",
      "\n",
      "Albert: I don't know when Cheryl's birthday is, but I know that Bernard does not know too.\n"
     ]
    },
    {
     "data": {
      "text/html": [
       "<style>\n",
       "        .dStyle td {width:2em; height:2em; border:1px solid grey; text-align:center}\n",
       "        .dStyle td:first-child {border-left:solid}\n",
       "        .dStyle td:nth-child(1) {border-right:solid}\n",
       "        .dStyle td:last-child {border-right:solid}\n",
       "        .dStyle tr:first-child  {border-top:solid}\n",
       "        .dStyle tr:nth-child(1) {border-bottom:solid}\n",
       "        .dStyle tr:last-child {border-bottom:solid}\n",
       "        </style><table class=\"dStyle\"><tr><td><td>13<td>14<td>16<td>19<td>24<td>25<td>26<td>27<td>29<tr><td>March<td> <td> <td> <td> <td>O<td>O<td>O<td>O<td> <tr><td>April<td> <td> <td> <td>-<td>-<td> <td> <td> <td>-<tr><td>May<td> <td>O<td> <td> <td> <td> <td> <td>O<td> <tr><td>June<td>-<td> <td> <td> <td>-<td>-<td>-<td> <td> <tr><td>July<td> <td>-<td>-<td> <td> <td> <td> <td> <td> </table>"
      ],
      "text/plain": [
       "<IPython.core.display.HTML object>"
      ]
     },
     "metadata": {},
     "output_type": "display_data"
    },
    {
     "name": "stdout",
     "output_type": "stream",
     "text": [
      "\n",
      "\n",
      "\n",
      "Bernard: At first I don't know when Cheryl's birthday is, but I know now.\n"
     ]
    },
    {
     "data": {
      "text/html": [
       "<style>\n",
       "        .dStyle td {width:2em; height:2em; border:1px solid grey; text-align:center}\n",
       "        .dStyle td:first-child {border-left:solid}\n",
       "        .dStyle td:nth-child(1) {border-right:solid}\n",
       "        .dStyle td:last-child {border-right:solid}\n",
       "        .dStyle tr:first-child  {border-top:solid}\n",
       "        .dStyle tr:nth-child(1) {border-bottom:solid}\n",
       "        .dStyle tr:last-child {border-bottom:solid}\n",
       "        </style><table class=\"dStyle\"><tr><td><td>13<td>14<td>16<td>19<td>24<td>25<td>26<td>27<td>29<tr><td>March<td> <td> <td> <td> <td>O<td>O<td>O<td>-<td> <tr><td>April<td> <td> <td> <td>-<td>-<td> <td> <td> <td>-<tr><td>May<td> <td>O<td> <td> <td> <td> <td> <td>-<td> <tr><td>June<td>-<td> <td> <td> <td>-<td>-<td>-<td> <td> <tr><td>July<td> <td>-<td>-<td> <td> <td> <td> <td> <td> </table>"
      ],
      "text/plain": [
       "<IPython.core.display.HTML object>"
      ]
     },
     "metadata": {},
     "output_type": "display_data"
    },
    {
     "name": "stdout",
     "output_type": "stream",
     "text": [
      "\n",
      "\n",
      "\n",
      "Albert: Then I also know when Cheryl's birthday is.\n"
     ]
    },
    {
     "data": {
      "text/html": [
       "<style>\n",
       "        .dStyle td {width:2em; height:2em; border:1px solid grey; text-align:center}\n",
       "        .dStyle td:first-child {border-left:solid}\n",
       "        .dStyle td:nth-child(1) {border-right:solid}\n",
       "        .dStyle td:last-child {border-right:solid}\n",
       "        .dStyle tr:first-child  {border-top:solid}\n",
       "        .dStyle tr:nth-child(1) {border-bottom:solid}\n",
       "        .dStyle tr:last-child {border-bottom:solid}\n",
       "        </style><table class=\"dStyle\"><tr><td><td>13<td>14<td>16<td>19<td>24<td>25<td>26<td>27<td>29<tr><td>March<td> <td> <td> <td> <td>-<td>-<td>-<td>-<td> <tr><td>April<td> <td> <td> <td>-<td>-<td> <td> <td> <td>-<tr><td>May<td> <td>O<td> <td> <td> <td> <td> <td>-<td> <tr><td>June<td>-<td> <td> <td> <td>-<td>-<td>-<td> <td> <tr><td>July<td> <td>-<td>-<td> <td> <td> <td> <td> <td> </table>"
      ],
      "text/plain": [
       "<IPython.core.display.HTML object>"
      ]
     },
     "metadata": {},
     "output_type": "display_data"
    },
    {
     "data": {
      "text/plain": [
       "{'May 14'}"
      ]
     },
     "execution_count": 6,
     "metadata": {},
     "output_type": "execute_result"
    }
   ],
   "source": [
    "INTERESTING_DATES = {'June 26', 'June 13', 'April 19', 'May 14', 'March 27', 'July 16', 'March 25', 'June 24', 'April 24', 'May 27', 'June 25', 'April 29', 'March 26', 'July 14', 'March 24'}\n",
    "dates = INTERESTING_DATES\n",
    "show_progression(dates, cheryl_statements)"
   ]
  },
  {
   "cell_type": "code",
   "execution_count": 7,
   "metadata": {},
   "outputs": [],
   "source": [
    "import random\n",
    "from tqdm.notebook import tqdm\n",
    "\n",
    "def gen_dates(k=10):\n",
    "    \"Pick a set of dates\"\n",
    "    some_dates = {mo + ' ' + d1 + d2\n",
    "              for mo in ('March', 'April', 'May', 'June', 'July')\n",
    "              for d1 in '12'\n",
    "              for d2 in '3456789'}\n",
    "\n",
    "    return set(random.sample(tuple(some_dates), k))\n",
    "\n",
    "def gen_solution(statements, k=10, max_attempts=10000):\n",
    "    for _ in tqdm(range(max_attempts)):\n",
    "        dates = gen_dates(k)\n",
    "        using(dates)\n",
    "        if hear(dates, *statements[:len(statements)//2]):\n",
    "            solution = hear(dates, *statements)\n",
    "            if know(solution):\n",
    "                return dates, solution\n",
    "    return None, None"
   ]
  },
  {
   "cell_type": "code",
   "execution_count": 8,
   "metadata": {
    "scrolled": false
   },
   "outputs": [
    {
     "data": {
      "application/vnd.jupyter.widget-view+json": {
       "model_id": "d354c7b4058f45c4aa29e660a79e590d",
       "version_major": 2,
       "version_minor": 0
      },
      "text/plain": [
       "HBox(children=(HTML(value=''), FloatProgress(value=0.0, max=10000.0), HTML(value='')))"
      ]
     },
     "metadata": {},
     "output_type": "display_data"
    },
    {
     "name": "stdout",
     "output_type": "stream",
     "text": [
      "\n",
      "{'June 23', 'June 25', 'March 26', 'June 15', 'March 17', 'April 25', 'July 23', 'July 15', 'May 28', 'March 13'}\n"
     ]
    }
   ],
   "source": [
    "tmp_dates, solution = gen_solution(cheryl_statements)\n",
    "print(tmp_dates)\n",
    "# show_progression(tmp_dates, cheryl_statements)"
   ]
  },
  {
   "cell_type": "code",
   "execution_count": 53,
   "metadata": {},
   "outputs": [],
   "source": [
    "def albert1(date):\n",
    "    \"Albert: I don't know when Cheryl's birthday is, but I know that Bernard does not know too.\"\n",
    "    after_being_told = tell(parse_month(date))\n",
    "    return (not know(after_being_told) \n",
    "            and all(not know(tell(parse_day(d)))\n",
    "                    for d in after_being_told))\n",
    "\n",
    "def bernard1(date):\n",
    "    \"Bernard: I still don't know\"\n",
    "    return not know(hear(tell(parse_day(date)), albert1))\n",
    "\n",
    "def albert2(date):\n",
    "    \"Albert: I still don't know.\"\n",
    "    return not know(hear(tell(parse_month(date)), bernard1))\n",
    "\n",
    "def bernard2(date):\n",
    "    \"Bernard: I still don't know 2\"\n",
    "    return not know(hear(tell(parse_day(date)), albert2))\n",
    "\n",
    "def bernard3(date):\n",
    "    \"Bernard: OK, now I know.\"\n",
    "    return know(hear(tell(parse_day(date)), albert3))\n",
    "\n",
    "def albert3(date):\n",
    "    \"Albert: OK, now I know.\"\n",
    "    return know(hear(tell(parse_month(date)), bernard2))\n",
    "\n",
    "\n",
    "def month_initial(date):\n",
    "    \"month: I don't know when Cheryl's birthday is, but I know that month does not know too.\"\n",
    "    after_being_told = tell(parse_month(date))\n",
    "    return (not know(after_being_told) \n",
    "            and all(not know(tell(parse_day(d)))\n",
    "                    for d in after_being_told))\n",
    "\n",
    "def month_initial_simple(date):\n",
    "    \"month: I don't know when Cheryl's birthday is.\"\n",
    "    return not know(tell(parse_month(date)))\n",
    "\n",
    "def day_not_know_complicated(date, prior_statement):\n",
    "    \"day: I still don't know, but I know that month does not know.\"\n",
    "    after_hear_day = hear(tell(parse_day(date)), prior_statement)\n",
    "    after_hear_month = hear(tell(parse_month(date)), prior_statement)\n",
    "    return (not know(after_hear_day)\n",
    "            and all(not know(after_hear_month)\n",
    "                    for d in after_hear_day))\n",
    "\n",
    "def month_not_know_complicated(date, prior_statement):\n",
    "    \"month: I still don't know, but I know that day does not know.\"\n",
    "    after_hear_day = hear(tell(parse_day(date)), prior_statement)\n",
    "    after_hear_month = hear(tell(parse_month(date)), prior_statement)\n",
    "    return (not know(after_hear_month)\n",
    "            and all(not know(after_hear_day)\n",
    "                    for d in after_hear_month))\n",
    "\n",
    "\n",
    "@cache\n",
    "def day_not_know(date, prior_statement):\n",
    "    \"Day: That helps, but I still don't know.\"\n",
    "    # Same as day not know, but using for the doc string.\n",
    "    return not know(hear(tell(parse_day(date)), prior_statement))        \n",
    "\n",
    "\n",
    "@cache\n",
    "def month_not_know(date, prior_statement):\n",
    "    \"month: That helps, but I still don't know.\"\n",
    "    # Same as day not know, but using for the doc string.\n",
    "    return not know(hear(tell(parse_month(date)), prior_statement))\n",
    "\n",
    "# def day_not_know(date, prior_statement):\n",
    "#     \"month: I still don't know, but I know that day does not know.\"\n",
    "#     # Same as day not know, but using for the doc string.\n",
    "#     after_hear_day = hear(tell(parse_day(date)), prior_statement)\n",
    "#     after_hear_month = hear(tell(parse_month(date)), prior_statement)\n",
    "#     if len(after_hear_month - after_hear_day) > 0:\n",
    "#         return not know(after_hear_day)\n",
    "#     return False\n",
    "\n",
    "# # @cache\n",
    "# def month_not_know(date, prior_statement):\n",
    "#     \"month: I still don't know, but I know that day does not know.\"\n",
    "#     # Same as day not know, but using for the doc string.\n",
    "#     after_hear_day = hear(tell(parse_day(date)), prior_statement)\n",
    "#     after_hear_month = hear(tell(parse_month(date)), prior_statement)\n",
    "# #     print(\"mnk\", len(after_hear_day) - len(after_hear_month))\n",
    "#     if len(after_hear_day - after_hear_month) > 0:\n",
    "#         return not know(after_hear_month)\n",
    "#     return False\n",
    "\n",
    "\n",
    "# # @cache\n",
    "# def day_not_know(date, prior_statement):\n",
    "#     \"month: I still don't know, but I know that day does not know.\"\n",
    "#     # Same as day not know, but using for the doc string.\n",
    "#     after_hear_day = hear(tell(parse_day(date)), prior_statement)\n",
    "#     after_hear_month = hear(tell(parse_month(date)), prior_statement)\n",
    "#     if len(after_hear_month - after_hear_day) > 0:\n",
    "#         return not know(after_hear_day)\n",
    "#     return False\n",
    "\n",
    "# # @cache\n",
    "# def month_not_know(date, prior_statement):\n",
    "#     \"month: I still don't know, but I know that day does not know.\"\n",
    "#     # Same as day not know, but using for the doc string.\n",
    "#     after_hear_day = hear(tell(parse_day(date)), prior_statement)\n",
    "#     after_hear_month = hear(tell(parse_month(date)), prior_statement)\n",
    "# #     print(\"mnk\", len(after_hear_day) - len(after_hear_month))\n",
    "#     if len(after_hear_day - after_hear_month) > 0:\n",
    "#         return not know(after_hear_month)\n",
    "#     return False\n",
    "\n",
    "def day_know(date, prior_statement):\n",
    "    \"day: Now I know when Cheryl's birthday is.\"\n",
    "    return know(hear(tell(parse_day(date)), prior_statement))\n",
    "\n",
    "def month_know(date, prior_statement):\n",
    "    \"Month: Now I also know when Cheryl's birthday is.\"\n",
    "    return know(hear(tell(parse_month(date)), prior_statement))\n",
    "\n",
    "\n",
    "statement_list = [month_initial]\n",
    "statement_list.append(partial(day_not_know, prior_statement=statement_list[-1]))\n",
    "statement_list.append(partial(month_not_know, prior_statement=statement_list[-1]))\n",
    "statement_list.append(partial(day_not_know, prior_statement=statement_list[-1]))\n",
    "statement_list.append(partial(month_know, prior_statement=statement_list[-1]))\n",
    "statement_list.append(partial(day_know, prior_statement=statement_list[-1]))\n",
    "\n",
    "statement_list_complicated = [month_initial]\n",
    "statement_list_complicated.append(partial(day_not_know_complicated, prior_statement=statement_list_complicated[-1]))\n",
    "statement_list_complicated.append(partial(month_not_know_complicated, prior_statement=statement_list_complicated[-1]))\n",
    "statement_list_complicated.append(partial(day_not_know_complicated, prior_statement=statement_list_complicated[-1]))\n",
    "statement_list_complicated.append(partial(month_know, prior_statement=statement_list_complicated[-1]))\n",
    "statement_list_complicated.append(partial(day_know, prior_statement=statement_list_complicated[-1]))\n",
    "\n",
    "# for i in range(2):\n",
    "#     newstate = partial(day_not_know, prior_statement=statement_list[-1])\n",
    "#     newstate.__doc__ = newstate.func.__doc__\n",
    "#     print(\"Day -----\", newstate)\n",
    "#     statement_list.append(newstate)\n",
    "#     newstate = partial(month_not_know, prior_statement=statement_list[-1])\n",
    "#     newstate.__doc__ = newstate.func.__doc__\n",
    "#     print(\"month -----\", newstate)\n",
    "#     statement_list.append(newstate)\n",
    "# statement_list.append(partial(day_know, prior_statement=statement_list[-1]))\n",
    "# statement_list.append(partial(month_know, prior_statement=statement_list[-1]))\n",
    "# print(hear(dates, *statement_list[:4]))\n",
    "# print(hear(dates, *statement_list_complicated[:4]))\n"
   ]
  },
  {
   "cell_type": "code",
   "execution_count": 10,
   "metadata": {
    "scrolled": false
   },
   "outputs": [
    {
     "data": {
      "application/vnd.jupyter.widget-view+json": {
       "model_id": "93dcd574f71440918c3815992aeedff8",
       "version_major": 2,
       "version_minor": 0
      },
      "text/plain": [
       "HBox(children=(HTML(value=''), FloatProgress(value=0.0, max=10000.0), HTML(value='')))"
      ]
     },
     "metadata": {},
     "output_type": "display_data"
    },
    {
     "name": "stdout",
     "output_type": "stream",
     "text": [
      "\n",
      "{'March 25', 'June 17', 'April 14', 'May 25', 'March 14', 'July 14', 'March 16', 'June 27', 'April 27', 'July 16', 'May 17', 'May 28'}\n",
      "--------------------\n",
      "{'April 14'}\n",
      "{'April 14'}\n",
      "{'April 14'}\n"
     ]
    }
   ],
   "source": [
    "statements = [albert1, bernard1, albert2, bernard2, albert3, bernard3]\n",
    "statement_list = [month_initial]\n",
    "statement_list.append(partial(day_not_know, prior_statement=statement_list[-1]))\n",
    "statement_list.append(partial(month_not_know, prior_statement=statement_list[-1]))\n",
    "statement_list.append(partial(day_not_know, prior_statement=statement_list[-1]))\n",
    "statement_list.append(partial(month_know, prior_statement=statement_list[-1]))\n",
    "statement_list.append(partial(day_know, prior_statement=statement_list[-1]))\n",
    "\n",
    "statement_list_complicated = [month_initial]\n",
    "statement_list_complicated.append(partial(day_not_know_complicated, prior_statement=statement_list_complicated[-1]))\n",
    "statement_list_complicated.append(partial(month_not_know_complicated, prior_statement=statement_list_complicated[-1]))\n",
    "statement_list_complicated.append(partial(day_not_know_complicated, prior_statement=statement_list_complicated[-1]))\n",
    "statement_list_complicated.append(partial(month_know, prior_statement=statement_list_complicated[-1]))\n",
    "statement_list_complicated.append(partial(day_know, prior_statement=statement_list_complicated[-1]))\n",
    "\n",
    "dates, solution = gen_solution(statement_list, k=12, max_attempts=10000)\n",
    "depth_check = 6\n",
    "if dates != None:\n",
    "    print(dates)\n",
    "    print(\"--------------------\")\n",
    "    print(hear(dates, *statements[:depth_check]))\n",
    "    print(hear(dates, *statement_list[:depth_check]))\n",
    "    print(hear(dates, *statement_list_complicated[:depth_check]))\n",
    "#     show_progression(dates, statements)"
   ]
  },
  {
   "cell_type": "code",
   "execution_count": 48,
   "metadata": {
    "scrolled": false
   },
   "outputs": [
    {
     "data": {
      "application/vnd.jupyter.widget-view+json": {
       "model_id": "e17cfb35e8f74c5db590863aba7a67ef",
       "version_major": 2,
       "version_minor": 0
      },
      "text/plain": [
       "HBox(children=(HTML(value=''), FloatProgress(value=0.0, max=400000.0), HTML(value='')))"
      ]
     },
     "metadata": {},
     "output_type": "display_data"
    },
    {
     "name": "stdout",
     "output_type": "stream",
     "text": [
      "\n",
      "{'March 13'}\n"
     ]
    },
    {
     "data": {
      "text/html": [
       "<style>\n",
       "        .dStyle td {width:2em; height:2em; border:1px solid grey; text-align:center}\n",
       "        .dStyle td:first-child {border-left:solid}\n",
       "        .dStyle td:nth-child(1) {border-right:solid}\n",
       "        .dStyle td:last-child {border-right:solid}\n",
       "        .dStyle tr:first-child  {border-top:solid}\n",
       "        .dStyle tr:nth-child(1) {border-bottom:solid}\n",
       "        .dStyle tr:last-child {border-bottom:solid}\n",
       "        </style><table class=\"dStyle\"><tr><td><td>13<td>19<td>29<tr><td>January<td> <td>O<td> <tr><td>Febuary<td>O<td>O<td> <tr><td>March<td>O<td> <td>O<tr><td>April<td>O<td>O<td> </table>"
      ],
      "text/plain": [
       "<IPython.core.display.HTML object>"
      ]
     },
     "metadata": {},
     "output_type": "display_data"
    },
    {
     "name": "stdout",
     "output_type": "stream",
     "text": [
      "\n",
      "\n",
      "\n",
      "month: I don't know when Cheryl's birthday is, but I know that month does not know too.\n"
     ]
    },
    {
     "data": {
      "text/html": [
       "<style>\n",
       "        .dStyle td {width:2em; height:2em; border:1px solid grey; text-align:center}\n",
       "        .dStyle td:first-child {border-left:solid}\n",
       "        .dStyle td:nth-child(1) {border-right:solid}\n",
       "        .dStyle td:last-child {border-right:solid}\n",
       "        .dStyle tr:first-child  {border-top:solid}\n",
       "        .dStyle tr:nth-child(1) {border-bottom:solid}\n",
       "        .dStyle tr:last-child {border-bottom:solid}\n",
       "        </style><table class=\"dStyle\"><tr><td><td>13<td>19<td>29<tr><td>January<td> <td>-<td> <tr><td>Febuary<td>O<td>O<td> <tr><td>March<td>O<td> <td>O<tr><td>April<td>O<td>O<td> </table>"
      ],
      "text/plain": [
       "<IPython.core.display.HTML object>"
      ]
     },
     "metadata": {},
     "output_type": "display_data"
    },
    {
     "name": "stdout",
     "output_type": "stream",
     "text": [
      "\n",
      "\n",
      "\n",
      "Day: That helps, but I still don't know.\n"
     ]
    },
    {
     "data": {
      "text/html": [
       "<style>\n",
       "        .dStyle td {width:2em; height:2em; border:1px solid grey; text-align:center}\n",
       "        .dStyle td:first-child {border-left:solid}\n",
       "        .dStyle td:nth-child(1) {border-right:solid}\n",
       "        .dStyle td:last-child {border-right:solid}\n",
       "        .dStyle tr:first-child  {border-top:solid}\n",
       "        .dStyle tr:nth-child(1) {border-bottom:solid}\n",
       "        .dStyle tr:last-child {border-bottom:solid}\n",
       "        </style><table class=\"dStyle\"><tr><td><td>13<td>19<td>29<tr><td>January<td> <td>-<td> <tr><td>Febuary<td>O<td>O<td> <tr><td>March<td>O<td> <td>-<tr><td>April<td>O<td>O<td> </table>"
      ],
      "text/plain": [
       "<IPython.core.display.HTML object>"
      ]
     },
     "metadata": {},
     "output_type": "display_data"
    },
    {
     "name": "stdout",
     "output_type": "stream",
     "text": [
      "\n",
      "\n",
      "\n",
      "Month: Now I also know when Cheryl's birthday is.\n"
     ]
    },
    {
     "data": {
      "text/html": [
       "<style>\n",
       "        .dStyle td {width:2em; height:2em; border:1px solid grey; text-align:center}\n",
       "        .dStyle td:first-child {border-left:solid}\n",
       "        .dStyle td:nth-child(1) {border-right:solid}\n",
       "        .dStyle td:last-child {border-right:solid}\n",
       "        .dStyle tr:first-child  {border-top:solid}\n",
       "        .dStyle tr:nth-child(1) {border-bottom:solid}\n",
       "        .dStyle tr:last-child {border-bottom:solid}\n",
       "        </style><table class=\"dStyle\"><tr><td><td>13<td>19<td>29<tr><td>January<td> <td>-<td> <tr><td>Febuary<td>-<td>-<td> <tr><td>March<td>O<td> <td>-<tr><td>April<td>-<td>-<td> </table>"
      ],
      "text/plain": [
       "<IPython.core.display.HTML object>"
      ]
     },
     "metadata": {},
     "output_type": "display_data"
    },
    {
     "name": "stdout",
     "output_type": "stream",
     "text": [
      "\n",
      "\n",
      "\n",
      "day: Now I also know when Cheryl's birthday is.\n"
     ]
    },
    {
     "data": {
      "text/html": [
       "<style>\n",
       "        .dStyle td {width:2em; height:2em; border:1px solid grey; text-align:center}\n",
       "        .dStyle td:first-child {border-left:solid}\n",
       "        .dStyle td:nth-child(1) {border-right:solid}\n",
       "        .dStyle td:last-child {border-right:solid}\n",
       "        .dStyle tr:first-child  {border-top:solid}\n",
       "        .dStyle tr:nth-child(1) {border-bottom:solid}\n",
       "        .dStyle tr:last-child {border-bottom:solid}\n",
       "        </style><table class=\"dStyle\"><tr><td><td>13<td>19<td>29<tr><td>January<td> <td>-<td> <tr><td>Febuary<td>-<td>-<td> <tr><td>March<td>O<td> <td>-<tr><td>April<td>-<td>-<td> </table>"
      ],
      "text/plain": [
       "<IPython.core.display.HTML object>"
      ]
     },
     "metadata": {},
     "output_type": "display_data"
    }
   ],
   "source": [
    "def gen_dates_all(k=10):\n",
    "    \"Pick a set of dates\"\n",
    "    some_dates = {mo + ' ' + d1 + d2\n",
    "              for mo in MONTHS[0:4]\n",
    "              for d1 in '12'\n",
    "              for d2 in '3456789'}\n",
    "\n",
    "    return set(random.sample(tuple(some_dates), k))\n",
    "\n",
    "def gen_solution_check_early(statements, k=10, max_attempts=10000):\n",
    "    for _ in tqdm(range(max_attempts)):\n",
    "        dates = gen_dates_all(k)\n",
    "        using(dates)\n",
    "        num_dates = len(dates)\n",
    "        for i in range(1, len(statements) + 1):\n",
    "            partial_solution = hear(dates, *statements[:i])\n",
    "            # break if no solution or \n",
    "            # the number of possible isn't decreasing\n",
    "            if partial_solution:\n",
    "                if (i == len(statements)) and know(partial_solution):\n",
    "                    return dates, partial_solution\n",
    "                if len(partial_solution) < num_dates:\n",
    "                    num_dates = len(partial_solution)\n",
    "                else:\n",
    "                    break\n",
    "            else:\n",
    "                break\n",
    "    return None, None\n",
    "\n",
    "statement_deep = [month_initial_simple]\n",
    "for i in range(1):\n",
    "    newstate = partial(day_not_know, prior_statement=statement_deep[-1])\n",
    "    newstate.__doc__ = newstate.func.__doc__\n",
    "    statement_deep.append(newstate)\n",
    "    newstate = partial(month_not_know, prior_statement=statement_deep[-1])\n",
    "    newstate.__doc__ = newstate.func.__doc__\n",
    "    statement_deep.append(newstate)\n",
    "statement_deep.pop(-1)\n",
    "statement_deep.append(partial(month_know, prior_statement=statement_deep[-1]))\n",
    "statement_deep.append(partial(day_know, prior_statement=statement_deep[-1]))\n",
    "\n",
    "# statement_deep.append(partial(day_know, prior_statement=statement_deep[-1]))\n",
    "# statement_deep.append(partial(month_know, prior_statement=statement_deep[-1]))\n",
    "\n",
    "dates, solution = gen_solution_check_early(statement_deep, k=7, max_attempts=400000)\n",
    "if dates != None:\n",
    "    print(solution)\n",
    "    show_progression(dates, statement_deep)\n",
    "    "
   ]
  },
  {
   "cell_type": "code",
   "execution_count": 50,
   "metadata": {},
   "outputs": [
    {
     "data": {
      "text/html": [
       "<style>\n",
       "        .dStyle td {width:2em; height:2em; border:1px solid grey; text-align:center}\n",
       "        .dStyle td:first-child {border-left:solid}\n",
       "        .dStyle td:nth-child(1) {border-right:solid}\n",
       "        .dStyle td:last-child {border-right:solid}\n",
       "        .dStyle tr:first-child  {border-top:solid}\n",
       "        .dStyle tr:nth-child(1) {border-bottom:solid}\n",
       "        .dStyle tr:last-child {border-bottom:solid}\n",
       "        </style><table class=\"dStyle\"><tr><td><td>10<td>11<td>12<td>13<td>14<td>15<td>16<td>17<td>18<td>19<td>20<td>21<tr><td>January<td>O<td>O<td> <td> <td> <td> <td> <td> <td> <td> <td> <td> <tr><td>Febuary<td>O<td>O<td>O<td> <td> <td> <td> <td> <td> <td> <td> <td> <tr><td>March<td> <td> <td>O<td>O<td> <td> <td> <td> <td> <td> <td> <td> <tr><td>April<td> <td> <td> <td>O<td>O<td> <td> <td> <td> <td> <td> <td> <tr><td>May<td> <td> <td> <td> <td>O<td>O<td> <td> <td> <td> <td> <td> <tr><td>June<td> <td> <td> <td> <td> <td>O<td>O<td> <td> <td> <td> <td> <tr><td>July<td> <td> <td> <td> <td> <td> <td>O<td>O<td> <td> <td> <td> <tr><td>August<td> <td> <td> <td> <td> <td> <td> <td>O<td>O<td> <td> <td> <tr><td>September<td> <td> <td> <td> <td> <td> <td> <td> <td>O<td>O<td> <td> <tr><td>October<td> <td> <td> <td> <td> <td> <td> <td> <td> <td>O<td>O<td> <tr><td>November<td> <td> <td> <td> <td> <td> <td> <td> <td> <td> <td>O<td>O<tr><td>December<td> <td> <td> <td> <td> <td> <td> <td> <td> <td> <td> <td>O</table>"
      ],
      "text/plain": [
       "<IPython.core.display.HTML object>"
      ]
     },
     "metadata": {},
     "output_type": "display_data"
    }
   ],
   "source": [
    "good_dates = set()\n",
    "current_day = 10\n",
    "for m in MONTHS[:-1]:\n",
    "    good_dates.add(m + \" \" + str(current_day))\n",
    "    good_dates.add(m + \" \" + str(current_day + 1))\n",
    "    current_day += 1\n",
    "    \n",
    "good_dates.add(MONTHS[1] + \" \" + str(10))\n",
    "good_dates.add(MONTHS[-1] + \" \" + str(current_day))\n",
    "    \n",
    "show(good_dates)"
   ]
  },
  {
   "cell_type": "code",
   "execution_count": 54,
   "metadata": {
    "scrolled": false
   },
   "outputs": [
    {
     "data": {
      "text/html": [
       "<style>\n",
       "        .dStyle td {width:2em; height:2em; border:1px solid grey; text-align:center}\n",
       "        .dStyle td:first-child {border-left:solid}\n",
       "        .dStyle td:nth-child(1) {border-right:solid}\n",
       "        .dStyle td:last-child {border-right:solid}\n",
       "        .dStyle tr:first-child  {border-top:solid}\n",
       "        .dStyle tr:nth-child(1) {border-bottom:solid}\n",
       "        .dStyle tr:last-child {border-bottom:solid}\n",
       "        </style><table class=\"dStyle\"><tr><td><td>10<td>11<td>12<td>13<td>14<td>15<td>16<td>17<td>18<td>19<td>20<td>21<tr><td>January<td>O<td>O<td> <td> <td> <td> <td> <td> <td> <td> <td> <td> <tr><td>Febuary<td>O<td>O<td>O<td> <td> <td> <td> <td> <td> <td> <td> <td> <tr><td>March<td> <td> <td>O<td>O<td> <td> <td> <td> <td> <td> <td> <td> <tr><td>April<td> <td> <td> <td>O<td>O<td> <td> <td> <td> <td> <td> <td> <tr><td>May<td> <td> <td> <td> <td>O<td>O<td> <td> <td> <td> <td> <td> <tr><td>June<td> <td> <td> <td> <td> <td>O<td>O<td> <td> <td> <td> <td> <tr><td>July<td> <td> <td> <td> <td> <td> <td>O<td>O<td> <td> <td> <td> <tr><td>August<td> <td> <td> <td> <td> <td> <td> <td>O<td>O<td> <td> <td> <tr><td>September<td> <td> <td> <td> <td> <td> <td> <td> <td>O<td>O<td> <td> <tr><td>October<td> <td> <td> <td> <td> <td> <td> <td> <td> <td>O<td>O<td> <tr><td>November<td> <td> <td> <td> <td> <td> <td> <td> <td> <td> <td>O<td>O<tr><td>December<td> <td> <td> <td> <td> <td> <td> <td> <td> <td> <td> <td>O</table>"
      ],
      "text/plain": [
       "<IPython.core.display.HTML object>"
      ]
     },
     "metadata": {},
     "output_type": "display_data"
    },
    {
     "name": "stdout",
     "output_type": "stream",
     "text": [
      "\n",
      "\n",
      "\n",
      "month: I don't know when Cheryl's birthday is.\n"
     ]
    },
    {
     "data": {
      "text/html": [
       "<style>\n",
       "        .dStyle td {width:2em; height:2em; border:1px solid grey; text-align:center}\n",
       "        .dStyle td:first-child {border-left:solid}\n",
       "        .dStyle td:nth-child(1) {border-right:solid}\n",
       "        .dStyle td:last-child {border-right:solid}\n",
       "        .dStyle tr:first-child  {border-top:solid}\n",
       "        .dStyle tr:nth-child(1) {border-bottom:solid}\n",
       "        .dStyle tr:last-child {border-bottom:solid}\n",
       "        </style><table class=\"dStyle\"><tr><td><td>10<td>11<td>12<td>13<td>14<td>15<td>16<td>17<td>18<td>19<td>20<td>21<tr><td>January<td>O<td>O<td> <td> <td> <td> <td> <td> <td> <td> <td> <td> <tr><td>Febuary<td>O<td>O<td>O<td> <td> <td> <td> <td> <td> <td> <td> <td> <tr><td>March<td> <td> <td>O<td>O<td> <td> <td> <td> <td> <td> <td> <td> <tr><td>April<td> <td> <td> <td>O<td>O<td> <td> <td> <td> <td> <td> <td> <tr><td>May<td> <td> <td> <td> <td>O<td>O<td> <td> <td> <td> <td> <td> <tr><td>June<td> <td> <td> <td> <td> <td>O<td>O<td> <td> <td> <td> <td> <tr><td>July<td> <td> <td> <td> <td> <td> <td>O<td>O<td> <td> <td> <td> <tr><td>August<td> <td> <td> <td> <td> <td> <td> <td>O<td>O<td> <td> <td> <tr><td>September<td> <td> <td> <td> <td> <td> <td> <td> <td>O<td>O<td> <td> <tr><td>October<td> <td> <td> <td> <td> <td> <td> <td> <td> <td>O<td>O<td> <tr><td>November<td> <td> <td> <td> <td> <td> <td> <td> <td> <td> <td>O<td>O<tr><td>December<td> <td> <td> <td> <td> <td> <td> <td> <td> <td> <td> <td>-</table>"
      ],
      "text/plain": [
       "<IPython.core.display.HTML object>"
      ]
     },
     "metadata": {},
     "output_type": "display_data"
    },
    {
     "name": "stdout",
     "output_type": "stream",
     "text": [
      "\n",
      "\n",
      "\n",
      "Day: That helps, but I still don't know.\n"
     ]
    },
    {
     "data": {
      "text/html": [
       "<style>\n",
       "        .dStyle td {width:2em; height:2em; border:1px solid grey; text-align:center}\n",
       "        .dStyle td:first-child {border-left:solid}\n",
       "        .dStyle td:nth-child(1) {border-right:solid}\n",
       "        .dStyle td:last-child {border-right:solid}\n",
       "        .dStyle tr:first-child  {border-top:solid}\n",
       "        .dStyle tr:nth-child(1) {border-bottom:solid}\n",
       "        .dStyle tr:last-child {border-bottom:solid}\n",
       "        </style><table class=\"dStyle\"><tr><td><td>10<td>11<td>12<td>13<td>14<td>15<td>16<td>17<td>18<td>19<td>20<td>21<tr><td>January<td>O<td>O<td> <td> <td> <td> <td> <td> <td> <td> <td> <td> <tr><td>Febuary<td>O<td>O<td>O<td> <td> <td> <td> <td> <td> <td> <td> <td> <tr><td>March<td> <td> <td>O<td>O<td> <td> <td> <td> <td> <td> <td> <td> <tr><td>April<td> <td> <td> <td>O<td>O<td> <td> <td> <td> <td> <td> <td> <tr><td>May<td> <td> <td> <td> <td>O<td>O<td> <td> <td> <td> <td> <td> <tr><td>June<td> <td> <td> <td> <td> <td>O<td>O<td> <td> <td> <td> <td> <tr><td>July<td> <td> <td> <td> <td> <td> <td>O<td>O<td> <td> <td> <td> <tr><td>August<td> <td> <td> <td> <td> <td> <td> <td>O<td>O<td> <td> <td> <tr><td>September<td> <td> <td> <td> <td> <td> <td> <td> <td>O<td>O<td> <td> <tr><td>October<td> <td> <td> <td> <td> <td> <td> <td> <td> <td>O<td>O<td> <tr><td>November<td> <td> <td> <td> <td> <td> <td> <td> <td> <td> <td>O<td>-<tr><td>December<td> <td> <td> <td> <td> <td> <td> <td> <td> <td> <td> <td>-</table>"
      ],
      "text/plain": [
       "<IPython.core.display.HTML object>"
      ]
     },
     "metadata": {},
     "output_type": "display_data"
    },
    {
     "name": "stdout",
     "output_type": "stream",
     "text": [
      "\n",
      "\n",
      "\n",
      "month: That helps, but I still don't know.\n"
     ]
    },
    {
     "data": {
      "text/html": [
       "<style>\n",
       "        .dStyle td {width:2em; height:2em; border:1px solid grey; text-align:center}\n",
       "        .dStyle td:first-child {border-left:solid}\n",
       "        .dStyle td:nth-child(1) {border-right:solid}\n",
       "        .dStyle td:last-child {border-right:solid}\n",
       "        .dStyle tr:first-child  {border-top:solid}\n",
       "        .dStyle tr:nth-child(1) {border-bottom:solid}\n",
       "        .dStyle tr:last-child {border-bottom:solid}\n",
       "        </style><table class=\"dStyle\"><tr><td><td>10<td>11<td>12<td>13<td>14<td>15<td>16<td>17<td>18<td>19<td>20<td>21<tr><td>January<td>O<td>O<td> <td> <td> <td> <td> <td> <td> <td> <td> <td> <tr><td>Febuary<td>O<td>O<td>O<td> <td> <td> <td> <td> <td> <td> <td> <td> <tr><td>March<td> <td> <td>O<td>O<td> <td> <td> <td> <td> <td> <td> <td> <tr><td>April<td> <td> <td> <td>O<td>O<td> <td> <td> <td> <td> <td> <td> <tr><td>May<td> <td> <td> <td> <td>O<td>O<td> <td> <td> <td> <td> <td> <tr><td>June<td> <td> <td> <td> <td> <td>O<td>O<td> <td> <td> <td> <td> <tr><td>July<td> <td> <td> <td> <td> <td> <td>O<td>O<td> <td> <td> <td> <tr><td>August<td> <td> <td> <td> <td> <td> <td> <td>O<td>O<td> <td> <td> <tr><td>September<td> <td> <td> <td> <td> <td> <td> <td> <td>O<td>O<td> <td> <tr><td>October<td> <td> <td> <td> <td> <td> <td> <td> <td> <td>O<td>O<td> <tr><td>November<td> <td> <td> <td> <td> <td> <td> <td> <td> <td> <td>-<td>-<tr><td>December<td> <td> <td> <td> <td> <td> <td> <td> <td> <td> <td> <td>-</table>"
      ],
      "text/plain": [
       "<IPython.core.display.HTML object>"
      ]
     },
     "metadata": {},
     "output_type": "display_data"
    },
    {
     "name": "stdout",
     "output_type": "stream",
     "text": [
      "\n",
      "\n",
      "\n",
      "Day: That helps, but I still don't know.\n"
     ]
    },
    {
     "data": {
      "text/html": [
       "<style>\n",
       "        .dStyle td {width:2em; height:2em; border:1px solid grey; text-align:center}\n",
       "        .dStyle td:first-child {border-left:solid}\n",
       "        .dStyle td:nth-child(1) {border-right:solid}\n",
       "        .dStyle td:last-child {border-right:solid}\n",
       "        .dStyle tr:first-child  {border-top:solid}\n",
       "        .dStyle tr:nth-child(1) {border-bottom:solid}\n",
       "        .dStyle tr:last-child {border-bottom:solid}\n",
       "        </style><table class=\"dStyle\"><tr><td><td>10<td>11<td>12<td>13<td>14<td>15<td>16<td>17<td>18<td>19<td>20<td>21<tr><td>January<td>O<td>O<td> <td> <td> <td> <td> <td> <td> <td> <td> <td> <tr><td>Febuary<td>O<td>O<td>O<td> <td> <td> <td> <td> <td> <td> <td> <td> <tr><td>March<td> <td> <td>O<td>O<td> <td> <td> <td> <td> <td> <td> <td> <tr><td>April<td> <td> <td> <td>O<td>O<td> <td> <td> <td> <td> <td> <td> <tr><td>May<td> <td> <td> <td> <td>O<td>O<td> <td> <td> <td> <td> <td> <tr><td>June<td> <td> <td> <td> <td> <td>O<td>O<td> <td> <td> <td> <td> <tr><td>July<td> <td> <td> <td> <td> <td> <td>O<td>O<td> <td> <td> <td> <tr><td>August<td> <td> <td> <td> <td> <td> <td> <td>O<td>O<td> <td> <td> <tr><td>September<td> <td> <td> <td> <td> <td> <td> <td> <td>O<td>O<td> <td> <tr><td>October<td> <td> <td> <td> <td> <td> <td> <td> <td> <td>O<td>-<td> <tr><td>November<td> <td> <td> <td> <td> <td> <td> <td> <td> <td> <td>-<td>-<tr><td>December<td> <td> <td> <td> <td> <td> <td> <td> <td> <td> <td> <td>-</table>"
      ],
      "text/plain": [
       "<IPython.core.display.HTML object>"
      ]
     },
     "metadata": {},
     "output_type": "display_data"
    },
    {
     "name": "stdout",
     "output_type": "stream",
     "text": [
      "\n",
      "\n",
      "\n",
      "month: That helps, but I still don't know.\n"
     ]
    },
    {
     "data": {
      "text/html": [
       "<style>\n",
       "        .dStyle td {width:2em; height:2em; border:1px solid grey; text-align:center}\n",
       "        .dStyle td:first-child {border-left:solid}\n",
       "        .dStyle td:nth-child(1) {border-right:solid}\n",
       "        .dStyle td:last-child {border-right:solid}\n",
       "        .dStyle tr:first-child  {border-top:solid}\n",
       "        .dStyle tr:nth-child(1) {border-bottom:solid}\n",
       "        .dStyle tr:last-child {border-bottom:solid}\n",
       "        </style><table class=\"dStyle\"><tr><td><td>10<td>11<td>12<td>13<td>14<td>15<td>16<td>17<td>18<td>19<td>20<td>21<tr><td>January<td>O<td>O<td> <td> <td> <td> <td> <td> <td> <td> <td> <td> <tr><td>Febuary<td>O<td>O<td>O<td> <td> <td> <td> <td> <td> <td> <td> <td> <tr><td>March<td> <td> <td>O<td>O<td> <td> <td> <td> <td> <td> <td> <td> <tr><td>April<td> <td> <td> <td>O<td>O<td> <td> <td> <td> <td> <td> <td> <tr><td>May<td> <td> <td> <td> <td>O<td>O<td> <td> <td> <td> <td> <td> <tr><td>June<td> <td> <td> <td> <td> <td>O<td>O<td> <td> <td> <td> <td> <tr><td>July<td> <td> <td> <td> <td> <td> <td>O<td>O<td> <td> <td> <td> <tr><td>August<td> <td> <td> <td> <td> <td> <td> <td>O<td>O<td> <td> <td> <tr><td>September<td> <td> <td> <td> <td> <td> <td> <td> <td>O<td>O<td> <td> <tr><td>October<td> <td> <td> <td> <td> <td> <td> <td> <td> <td>-<td>-<td> <tr><td>November<td> <td> <td> <td> <td> <td> <td> <td> <td> <td> <td>-<td>-<tr><td>December<td> <td> <td> <td> <td> <td> <td> <td> <td> <td> <td> <td>-</table>"
      ],
      "text/plain": [
       "<IPython.core.display.HTML object>"
      ]
     },
     "metadata": {},
     "output_type": "display_data"
    },
    {
     "name": "stdout",
     "output_type": "stream",
     "text": [
      "\n",
      "\n",
      "\n",
      "Day: That helps, but I still don't know.\n"
     ]
    },
    {
     "data": {
      "text/html": [
       "<style>\n",
       "        .dStyle td {width:2em; height:2em; border:1px solid grey; text-align:center}\n",
       "        .dStyle td:first-child {border-left:solid}\n",
       "        .dStyle td:nth-child(1) {border-right:solid}\n",
       "        .dStyle td:last-child {border-right:solid}\n",
       "        .dStyle tr:first-child  {border-top:solid}\n",
       "        .dStyle tr:nth-child(1) {border-bottom:solid}\n",
       "        .dStyle tr:last-child {border-bottom:solid}\n",
       "        </style><table class=\"dStyle\"><tr><td><td>10<td>11<td>12<td>13<td>14<td>15<td>16<td>17<td>18<td>19<td>20<td>21<tr><td>January<td>O<td>O<td> <td> <td> <td> <td> <td> <td> <td> <td> <td> <tr><td>Febuary<td>O<td>O<td>O<td> <td> <td> <td> <td> <td> <td> <td> <td> <tr><td>March<td> <td> <td>O<td>O<td> <td> <td> <td> <td> <td> <td> <td> <tr><td>April<td> <td> <td> <td>O<td>O<td> <td> <td> <td> <td> <td> <td> <tr><td>May<td> <td> <td> <td> <td>O<td>O<td> <td> <td> <td> <td> <td> <tr><td>June<td> <td> <td> <td> <td> <td>O<td>O<td> <td> <td> <td> <td> <tr><td>July<td> <td> <td> <td> <td> <td> <td>O<td>O<td> <td> <td> <td> <tr><td>August<td> <td> <td> <td> <td> <td> <td> <td>O<td>O<td> <td> <td> <tr><td>September<td> <td> <td> <td> <td> <td> <td> <td> <td>O<td>-<td> <td> <tr><td>October<td> <td> <td> <td> <td> <td> <td> <td> <td> <td>-<td>-<td> <tr><td>November<td> <td> <td> <td> <td> <td> <td> <td> <td> <td> <td>-<td>-<tr><td>December<td> <td> <td> <td> <td> <td> <td> <td> <td> <td> <td> <td>-</table>"
      ],
      "text/plain": [
       "<IPython.core.display.HTML object>"
      ]
     },
     "metadata": {},
     "output_type": "display_data"
    },
    {
     "name": "stdout",
     "output_type": "stream",
     "text": [
      "\n",
      "\n",
      "\n",
      "month: That helps, but I still don't know.\n"
     ]
    },
    {
     "data": {
      "text/html": [
       "<style>\n",
       "        .dStyle td {width:2em; height:2em; border:1px solid grey; text-align:center}\n",
       "        .dStyle td:first-child {border-left:solid}\n",
       "        .dStyle td:nth-child(1) {border-right:solid}\n",
       "        .dStyle td:last-child {border-right:solid}\n",
       "        .dStyle tr:first-child  {border-top:solid}\n",
       "        .dStyle tr:nth-child(1) {border-bottom:solid}\n",
       "        .dStyle tr:last-child {border-bottom:solid}\n",
       "        </style><table class=\"dStyle\"><tr><td><td>10<td>11<td>12<td>13<td>14<td>15<td>16<td>17<td>18<td>19<td>20<td>21<tr><td>January<td>O<td>O<td> <td> <td> <td> <td> <td> <td> <td> <td> <td> <tr><td>Febuary<td>O<td>O<td>O<td> <td> <td> <td> <td> <td> <td> <td> <td> <tr><td>March<td> <td> <td>O<td>O<td> <td> <td> <td> <td> <td> <td> <td> <tr><td>April<td> <td> <td> <td>O<td>O<td> <td> <td> <td> <td> <td> <td> <tr><td>May<td> <td> <td> <td> <td>O<td>O<td> <td> <td> <td> <td> <td> <tr><td>June<td> <td> <td> <td> <td> <td>O<td>O<td> <td> <td> <td> <td> <tr><td>July<td> <td> <td> <td> <td> <td> <td>O<td>O<td> <td> <td> <td> <tr><td>August<td> <td> <td> <td> <td> <td> <td> <td>O<td>O<td> <td> <td> <tr><td>September<td> <td> <td> <td> <td> <td> <td> <td> <td>-<td>-<td> <td> <tr><td>October<td> <td> <td> <td> <td> <td> <td> <td> <td> <td>-<td>-<td> <tr><td>November<td> <td> <td> <td> <td> <td> <td> <td> <td> <td> <td>-<td>-<tr><td>December<td> <td> <td> <td> <td> <td> <td> <td> <td> <td> <td> <td>-</table>"
      ],
      "text/plain": [
       "<IPython.core.display.HTML object>"
      ]
     },
     "metadata": {},
     "output_type": "display_data"
    },
    {
     "name": "stdout",
     "output_type": "stream",
     "text": [
      "\n",
      "\n",
      "\n",
      "Day: That helps, but I still don't know.\n"
     ]
    },
    {
     "data": {
      "text/html": [
       "<style>\n",
       "        .dStyle td {width:2em; height:2em; border:1px solid grey; text-align:center}\n",
       "        .dStyle td:first-child {border-left:solid}\n",
       "        .dStyle td:nth-child(1) {border-right:solid}\n",
       "        .dStyle td:last-child {border-right:solid}\n",
       "        .dStyle tr:first-child  {border-top:solid}\n",
       "        .dStyle tr:nth-child(1) {border-bottom:solid}\n",
       "        .dStyle tr:last-child {border-bottom:solid}\n",
       "        </style><table class=\"dStyle\"><tr><td><td>10<td>11<td>12<td>13<td>14<td>15<td>16<td>17<td>18<td>19<td>20<td>21<tr><td>January<td>O<td>O<td> <td> <td> <td> <td> <td> <td> <td> <td> <td> <tr><td>Febuary<td>O<td>O<td>O<td> <td> <td> <td> <td> <td> <td> <td> <td> <tr><td>March<td> <td> <td>O<td>O<td> <td> <td> <td> <td> <td> <td> <td> <tr><td>April<td> <td> <td> <td>O<td>O<td> <td> <td> <td> <td> <td> <td> <tr><td>May<td> <td> <td> <td> <td>O<td>O<td> <td> <td> <td> <td> <td> <tr><td>June<td> <td> <td> <td> <td> <td>O<td>O<td> <td> <td> <td> <td> <tr><td>July<td> <td> <td> <td> <td> <td> <td>O<td>O<td> <td> <td> <td> <tr><td>August<td> <td> <td> <td> <td> <td> <td> <td>O<td>-<td> <td> <td> <tr><td>September<td> <td> <td> <td> <td> <td> <td> <td> <td>-<td>-<td> <td> <tr><td>October<td> <td> <td> <td> <td> <td> <td> <td> <td> <td>-<td>-<td> <tr><td>November<td> <td> <td> <td> <td> <td> <td> <td> <td> <td> <td>-<td>-<tr><td>December<td> <td> <td> <td> <td> <td> <td> <td> <td> <td> <td> <td>-</table>"
      ],
      "text/plain": [
       "<IPython.core.display.HTML object>"
      ]
     },
     "metadata": {},
     "output_type": "display_data"
    },
    {
     "name": "stdout",
     "output_type": "stream",
     "text": [
      "\n",
      "\n",
      "\n",
      "month: That helps, but I still don't know.\n"
     ]
    },
    {
     "data": {
      "text/html": [
       "<style>\n",
       "        .dStyle td {width:2em; height:2em; border:1px solid grey; text-align:center}\n",
       "        .dStyle td:first-child {border-left:solid}\n",
       "        .dStyle td:nth-child(1) {border-right:solid}\n",
       "        .dStyle td:last-child {border-right:solid}\n",
       "        .dStyle tr:first-child  {border-top:solid}\n",
       "        .dStyle tr:nth-child(1) {border-bottom:solid}\n",
       "        .dStyle tr:last-child {border-bottom:solid}\n",
       "        </style><table class=\"dStyle\"><tr><td><td>10<td>11<td>12<td>13<td>14<td>15<td>16<td>17<td>18<td>19<td>20<td>21<tr><td>January<td>O<td>O<td> <td> <td> <td> <td> <td> <td> <td> <td> <td> <tr><td>Febuary<td>O<td>O<td>O<td> <td> <td> <td> <td> <td> <td> <td> <td> <tr><td>March<td> <td> <td>O<td>O<td> <td> <td> <td> <td> <td> <td> <td> <tr><td>April<td> <td> <td> <td>O<td>O<td> <td> <td> <td> <td> <td> <td> <tr><td>May<td> <td> <td> <td> <td>O<td>O<td> <td> <td> <td> <td> <td> <tr><td>June<td> <td> <td> <td> <td> <td>O<td>O<td> <td> <td> <td> <td> <tr><td>July<td> <td> <td> <td> <td> <td> <td>O<td>O<td> <td> <td> <td> <tr><td>August<td> <td> <td> <td> <td> <td> <td> <td>-<td>-<td> <td> <td> <tr><td>September<td> <td> <td> <td> <td> <td> <td> <td> <td>-<td>-<td> <td> <tr><td>October<td> <td> <td> <td> <td> <td> <td> <td> <td> <td>-<td>-<td> <tr><td>November<td> <td> <td> <td> <td> <td> <td> <td> <td> <td> <td>-<td>-<tr><td>December<td> <td> <td> <td> <td> <td> <td> <td> <td> <td> <td> <td>-</table>"
      ],
      "text/plain": [
       "<IPython.core.display.HTML object>"
      ]
     },
     "metadata": {},
     "output_type": "display_data"
    },
    {
     "name": "stdout",
     "output_type": "stream",
     "text": [
      "\n",
      "\n",
      "\n",
      "Day: That helps, but I still don't know.\n"
     ]
    },
    {
     "data": {
      "text/html": [
       "<style>\n",
       "        .dStyle td {width:2em; height:2em; border:1px solid grey; text-align:center}\n",
       "        .dStyle td:first-child {border-left:solid}\n",
       "        .dStyle td:nth-child(1) {border-right:solid}\n",
       "        .dStyle td:last-child {border-right:solid}\n",
       "        .dStyle tr:first-child  {border-top:solid}\n",
       "        .dStyle tr:nth-child(1) {border-bottom:solid}\n",
       "        .dStyle tr:last-child {border-bottom:solid}\n",
       "        </style><table class=\"dStyle\"><tr><td><td>10<td>11<td>12<td>13<td>14<td>15<td>16<td>17<td>18<td>19<td>20<td>21<tr><td>January<td>O<td>O<td> <td> <td> <td> <td> <td> <td> <td> <td> <td> <tr><td>Febuary<td>O<td>O<td>O<td> <td> <td> <td> <td> <td> <td> <td> <td> <tr><td>March<td> <td> <td>O<td>O<td> <td> <td> <td> <td> <td> <td> <td> <tr><td>April<td> <td> <td> <td>O<td>O<td> <td> <td> <td> <td> <td> <td> <tr><td>May<td> <td> <td> <td> <td>O<td>O<td> <td> <td> <td> <td> <td> <tr><td>June<td> <td> <td> <td> <td> <td>O<td>O<td> <td> <td> <td> <td> <tr><td>July<td> <td> <td> <td> <td> <td> <td>O<td>-<td> <td> <td> <td> <tr><td>August<td> <td> <td> <td> <td> <td> <td> <td>-<td>-<td> <td> <td> <tr><td>September<td> <td> <td> <td> <td> <td> <td> <td> <td>-<td>-<td> <td> <tr><td>October<td> <td> <td> <td> <td> <td> <td> <td> <td> <td>-<td>-<td> <tr><td>November<td> <td> <td> <td> <td> <td> <td> <td> <td> <td> <td>-<td>-<tr><td>December<td> <td> <td> <td> <td> <td> <td> <td> <td> <td> <td> <td>-</table>"
      ],
      "text/plain": [
       "<IPython.core.display.HTML object>"
      ]
     },
     "metadata": {},
     "output_type": "display_data"
    },
    {
     "name": "stdout",
     "output_type": "stream",
     "text": [
      "\n",
      "\n",
      "\n",
      "month: That helps, but I still don't know.\n"
     ]
    },
    {
     "data": {
      "text/html": [
       "<style>\n",
       "        .dStyle td {width:2em; height:2em; border:1px solid grey; text-align:center}\n",
       "        .dStyle td:first-child {border-left:solid}\n",
       "        .dStyle td:nth-child(1) {border-right:solid}\n",
       "        .dStyle td:last-child {border-right:solid}\n",
       "        .dStyle tr:first-child  {border-top:solid}\n",
       "        .dStyle tr:nth-child(1) {border-bottom:solid}\n",
       "        .dStyle tr:last-child {border-bottom:solid}\n",
       "        </style><table class=\"dStyle\"><tr><td><td>10<td>11<td>12<td>13<td>14<td>15<td>16<td>17<td>18<td>19<td>20<td>21<tr><td>January<td>O<td>O<td> <td> <td> <td> <td> <td> <td> <td> <td> <td> <tr><td>Febuary<td>O<td>O<td>O<td> <td> <td> <td> <td> <td> <td> <td> <td> <tr><td>March<td> <td> <td>O<td>O<td> <td> <td> <td> <td> <td> <td> <td> <tr><td>April<td> <td> <td> <td>O<td>O<td> <td> <td> <td> <td> <td> <td> <tr><td>May<td> <td> <td> <td> <td>O<td>O<td> <td> <td> <td> <td> <td> <tr><td>June<td> <td> <td> <td> <td> <td>O<td>O<td> <td> <td> <td> <td> <tr><td>July<td> <td> <td> <td> <td> <td> <td>-<td>-<td> <td> <td> <td> <tr><td>August<td> <td> <td> <td> <td> <td> <td> <td>-<td>-<td> <td> <td> <tr><td>September<td> <td> <td> <td> <td> <td> <td> <td> <td>-<td>-<td> <td> <tr><td>October<td> <td> <td> <td> <td> <td> <td> <td> <td> <td>-<td>-<td> <tr><td>November<td> <td> <td> <td> <td> <td> <td> <td> <td> <td> <td>-<td>-<tr><td>December<td> <td> <td> <td> <td> <td> <td> <td> <td> <td> <td> <td>-</table>"
      ],
      "text/plain": [
       "<IPython.core.display.HTML object>"
      ]
     },
     "metadata": {},
     "output_type": "display_data"
    },
    {
     "name": "stdout",
     "output_type": "stream",
     "text": [
      "\n",
      "\n",
      "\n",
      "Day: That helps, but I still don't know.\n"
     ]
    },
    {
     "data": {
      "text/html": [
       "<style>\n",
       "        .dStyle td {width:2em; height:2em; border:1px solid grey; text-align:center}\n",
       "        .dStyle td:first-child {border-left:solid}\n",
       "        .dStyle td:nth-child(1) {border-right:solid}\n",
       "        .dStyle td:last-child {border-right:solid}\n",
       "        .dStyle tr:first-child  {border-top:solid}\n",
       "        .dStyle tr:nth-child(1) {border-bottom:solid}\n",
       "        .dStyle tr:last-child {border-bottom:solid}\n",
       "        </style><table class=\"dStyle\"><tr><td><td>10<td>11<td>12<td>13<td>14<td>15<td>16<td>17<td>18<td>19<td>20<td>21<tr><td>January<td>O<td>O<td> <td> <td> <td> <td> <td> <td> <td> <td> <td> <tr><td>Febuary<td>O<td>O<td>O<td> <td> <td> <td> <td> <td> <td> <td> <td> <tr><td>March<td> <td> <td>O<td>O<td> <td> <td> <td> <td> <td> <td> <td> <tr><td>April<td> <td> <td> <td>O<td>O<td> <td> <td> <td> <td> <td> <td> <tr><td>May<td> <td> <td> <td> <td>O<td>O<td> <td> <td> <td> <td> <td> <tr><td>June<td> <td> <td> <td> <td> <td>O<td>-<td> <td> <td> <td> <td> <tr><td>July<td> <td> <td> <td> <td> <td> <td>-<td>-<td> <td> <td> <td> <tr><td>August<td> <td> <td> <td> <td> <td> <td> <td>-<td>-<td> <td> <td> <tr><td>September<td> <td> <td> <td> <td> <td> <td> <td> <td>-<td>-<td> <td> <tr><td>October<td> <td> <td> <td> <td> <td> <td> <td> <td> <td>-<td>-<td> <tr><td>November<td> <td> <td> <td> <td> <td> <td> <td> <td> <td> <td>-<td>-<tr><td>December<td> <td> <td> <td> <td> <td> <td> <td> <td> <td> <td> <td>-</table>"
      ],
      "text/plain": [
       "<IPython.core.display.HTML object>"
      ]
     },
     "metadata": {},
     "output_type": "display_data"
    },
    {
     "name": "stdout",
     "output_type": "stream",
     "text": [
      "\n",
      "\n",
      "\n",
      "month: That helps, but I still don't know.\n"
     ]
    },
    {
     "data": {
      "text/html": [
       "<style>\n",
       "        .dStyle td {width:2em; height:2em; border:1px solid grey; text-align:center}\n",
       "        .dStyle td:first-child {border-left:solid}\n",
       "        .dStyle td:nth-child(1) {border-right:solid}\n",
       "        .dStyle td:last-child {border-right:solid}\n",
       "        .dStyle tr:first-child  {border-top:solid}\n",
       "        .dStyle tr:nth-child(1) {border-bottom:solid}\n",
       "        .dStyle tr:last-child {border-bottom:solid}\n",
       "        </style><table class=\"dStyle\"><tr><td><td>10<td>11<td>12<td>13<td>14<td>15<td>16<td>17<td>18<td>19<td>20<td>21<tr><td>January<td>O<td>O<td> <td> <td> <td> <td> <td> <td> <td> <td> <td> <tr><td>Febuary<td>O<td>O<td>O<td> <td> <td> <td> <td> <td> <td> <td> <td> <tr><td>March<td> <td> <td>O<td>O<td> <td> <td> <td> <td> <td> <td> <td> <tr><td>April<td> <td> <td> <td>O<td>O<td> <td> <td> <td> <td> <td> <td> <tr><td>May<td> <td> <td> <td> <td>O<td>O<td> <td> <td> <td> <td> <td> <tr><td>June<td> <td> <td> <td> <td> <td>-<td>-<td> <td> <td> <td> <td> <tr><td>July<td> <td> <td> <td> <td> <td> <td>-<td>-<td> <td> <td> <td> <tr><td>August<td> <td> <td> <td> <td> <td> <td> <td>-<td>-<td> <td> <td> <tr><td>September<td> <td> <td> <td> <td> <td> <td> <td> <td>-<td>-<td> <td> <tr><td>October<td> <td> <td> <td> <td> <td> <td> <td> <td> <td>-<td>-<td> <tr><td>November<td> <td> <td> <td> <td> <td> <td> <td> <td> <td> <td>-<td>-<tr><td>December<td> <td> <td> <td> <td> <td> <td> <td> <td> <td> <td> <td>-</table>"
      ],
      "text/plain": [
       "<IPython.core.display.HTML object>"
      ]
     },
     "metadata": {},
     "output_type": "display_data"
    },
    {
     "name": "stdout",
     "output_type": "stream",
     "text": [
      "\n",
      "\n",
      "\n",
      "Day: That helps, but I still don't know.\n"
     ]
    },
    {
     "data": {
      "text/html": [
       "<style>\n",
       "        .dStyle td {width:2em; height:2em; border:1px solid grey; text-align:center}\n",
       "        .dStyle td:first-child {border-left:solid}\n",
       "        .dStyle td:nth-child(1) {border-right:solid}\n",
       "        .dStyle td:last-child {border-right:solid}\n",
       "        .dStyle tr:first-child  {border-top:solid}\n",
       "        .dStyle tr:nth-child(1) {border-bottom:solid}\n",
       "        .dStyle tr:last-child {border-bottom:solid}\n",
       "        </style><table class=\"dStyle\"><tr><td><td>10<td>11<td>12<td>13<td>14<td>15<td>16<td>17<td>18<td>19<td>20<td>21<tr><td>January<td>O<td>O<td> <td> <td> <td> <td> <td> <td> <td> <td> <td> <tr><td>Febuary<td>O<td>O<td>O<td> <td> <td> <td> <td> <td> <td> <td> <td> <tr><td>March<td> <td> <td>O<td>O<td> <td> <td> <td> <td> <td> <td> <td> <tr><td>April<td> <td> <td> <td>O<td>O<td> <td> <td> <td> <td> <td> <td> <tr><td>May<td> <td> <td> <td> <td>O<td>-<td> <td> <td> <td> <td> <td> <tr><td>June<td> <td> <td> <td> <td> <td>-<td>-<td> <td> <td> <td> <td> <tr><td>July<td> <td> <td> <td> <td> <td> <td>-<td>-<td> <td> <td> <td> <tr><td>August<td> <td> <td> <td> <td> <td> <td> <td>-<td>-<td> <td> <td> <tr><td>September<td> <td> <td> <td> <td> <td> <td> <td> <td>-<td>-<td> <td> <tr><td>October<td> <td> <td> <td> <td> <td> <td> <td> <td> <td>-<td>-<td> <tr><td>November<td> <td> <td> <td> <td> <td> <td> <td> <td> <td> <td>-<td>-<tr><td>December<td> <td> <td> <td> <td> <td> <td> <td> <td> <td> <td> <td>-</table>"
      ],
      "text/plain": [
       "<IPython.core.display.HTML object>"
      ]
     },
     "metadata": {},
     "output_type": "display_data"
    },
    {
     "name": "stdout",
     "output_type": "stream",
     "text": [
      "\n",
      "\n",
      "\n",
      "month: That helps, but I still don't know.\n"
     ]
    },
    {
     "data": {
      "text/html": [
       "<style>\n",
       "        .dStyle td {width:2em; height:2em; border:1px solid grey; text-align:center}\n",
       "        .dStyle td:first-child {border-left:solid}\n",
       "        .dStyle td:nth-child(1) {border-right:solid}\n",
       "        .dStyle td:last-child {border-right:solid}\n",
       "        .dStyle tr:first-child  {border-top:solid}\n",
       "        .dStyle tr:nth-child(1) {border-bottom:solid}\n",
       "        .dStyle tr:last-child {border-bottom:solid}\n",
       "        </style><table class=\"dStyle\"><tr><td><td>10<td>11<td>12<td>13<td>14<td>15<td>16<td>17<td>18<td>19<td>20<td>21<tr><td>January<td>O<td>O<td> <td> <td> <td> <td> <td> <td> <td> <td> <td> <tr><td>Febuary<td>O<td>O<td>O<td> <td> <td> <td> <td> <td> <td> <td> <td> <tr><td>March<td> <td> <td>O<td>O<td> <td> <td> <td> <td> <td> <td> <td> <tr><td>April<td> <td> <td> <td>O<td>O<td> <td> <td> <td> <td> <td> <td> <tr><td>May<td> <td> <td> <td> <td>-<td>-<td> <td> <td> <td> <td> <td> <tr><td>June<td> <td> <td> <td> <td> <td>-<td>-<td> <td> <td> <td> <td> <tr><td>July<td> <td> <td> <td> <td> <td> <td>-<td>-<td> <td> <td> <td> <tr><td>August<td> <td> <td> <td> <td> <td> <td> <td>-<td>-<td> <td> <td> <tr><td>September<td> <td> <td> <td> <td> <td> <td> <td> <td>-<td>-<td> <td> <tr><td>October<td> <td> <td> <td> <td> <td> <td> <td> <td> <td>-<td>-<td> <tr><td>November<td> <td> <td> <td> <td> <td> <td> <td> <td> <td> <td>-<td>-<tr><td>December<td> <td> <td> <td> <td> <td> <td> <td> <td> <td> <td> <td>-</table>"
      ],
      "text/plain": [
       "<IPython.core.display.HTML object>"
      ]
     },
     "metadata": {},
     "output_type": "display_data"
    },
    {
     "name": "stdout",
     "output_type": "stream",
     "text": [
      "\n",
      "\n",
      "\n",
      "Day: That helps, but I still don't know.\n"
     ]
    },
    {
     "data": {
      "text/html": [
       "<style>\n",
       "        .dStyle td {width:2em; height:2em; border:1px solid grey; text-align:center}\n",
       "        .dStyle td:first-child {border-left:solid}\n",
       "        .dStyle td:nth-child(1) {border-right:solid}\n",
       "        .dStyle td:last-child {border-right:solid}\n",
       "        .dStyle tr:first-child  {border-top:solid}\n",
       "        .dStyle tr:nth-child(1) {border-bottom:solid}\n",
       "        .dStyle tr:last-child {border-bottom:solid}\n",
       "        </style><table class=\"dStyle\"><tr><td><td>10<td>11<td>12<td>13<td>14<td>15<td>16<td>17<td>18<td>19<td>20<td>21<tr><td>January<td>O<td>O<td> <td> <td> <td> <td> <td> <td> <td> <td> <td> <tr><td>Febuary<td>O<td>O<td>O<td> <td> <td> <td> <td> <td> <td> <td> <td> <tr><td>March<td> <td> <td>O<td>O<td> <td> <td> <td> <td> <td> <td> <td> <tr><td>April<td> <td> <td> <td>O<td>-<td> <td> <td> <td> <td> <td> <td> <tr><td>May<td> <td> <td> <td> <td>-<td>-<td> <td> <td> <td> <td> <td> <tr><td>June<td> <td> <td> <td> <td> <td>-<td>-<td> <td> <td> <td> <td> <tr><td>July<td> <td> <td> <td> <td> <td> <td>-<td>-<td> <td> <td> <td> <tr><td>August<td> <td> <td> <td> <td> <td> <td> <td>-<td>-<td> <td> <td> <tr><td>September<td> <td> <td> <td> <td> <td> <td> <td> <td>-<td>-<td> <td> <tr><td>October<td> <td> <td> <td> <td> <td> <td> <td> <td> <td>-<td>-<td> <tr><td>November<td> <td> <td> <td> <td> <td> <td> <td> <td> <td> <td>-<td>-<tr><td>December<td> <td> <td> <td> <td> <td> <td> <td> <td> <td> <td> <td>-</table>"
      ],
      "text/plain": [
       "<IPython.core.display.HTML object>"
      ]
     },
     "metadata": {},
     "output_type": "display_data"
    },
    {
     "name": "stdout",
     "output_type": "stream",
     "text": [
      "\n",
      "\n",
      "\n",
      "month: That helps, but I still don't know.\n"
     ]
    },
    {
     "data": {
      "text/html": [
       "<style>\n",
       "        .dStyle td {width:2em; height:2em; border:1px solid grey; text-align:center}\n",
       "        .dStyle td:first-child {border-left:solid}\n",
       "        .dStyle td:nth-child(1) {border-right:solid}\n",
       "        .dStyle td:last-child {border-right:solid}\n",
       "        .dStyle tr:first-child  {border-top:solid}\n",
       "        .dStyle tr:nth-child(1) {border-bottom:solid}\n",
       "        .dStyle tr:last-child {border-bottom:solid}\n",
       "        </style><table class=\"dStyle\"><tr><td><td>10<td>11<td>12<td>13<td>14<td>15<td>16<td>17<td>18<td>19<td>20<td>21<tr><td>January<td>O<td>O<td> <td> <td> <td> <td> <td> <td> <td> <td> <td> <tr><td>Febuary<td>O<td>O<td>O<td> <td> <td> <td> <td> <td> <td> <td> <td> <tr><td>March<td> <td> <td>O<td>O<td> <td> <td> <td> <td> <td> <td> <td> <tr><td>April<td> <td> <td> <td>-<td>-<td> <td> <td> <td> <td> <td> <td> <tr><td>May<td> <td> <td> <td> <td>-<td>-<td> <td> <td> <td> <td> <td> <tr><td>June<td> <td> <td> <td> <td> <td>-<td>-<td> <td> <td> <td> <td> <tr><td>July<td> <td> <td> <td> <td> <td> <td>-<td>-<td> <td> <td> <td> <tr><td>August<td> <td> <td> <td> <td> <td> <td> <td>-<td>-<td> <td> <td> <tr><td>September<td> <td> <td> <td> <td> <td> <td> <td> <td>-<td>-<td> <td> <tr><td>October<td> <td> <td> <td> <td> <td> <td> <td> <td> <td>-<td>-<td> <tr><td>November<td> <td> <td> <td> <td> <td> <td> <td> <td> <td> <td>-<td>-<tr><td>December<td> <td> <td> <td> <td> <td> <td> <td> <td> <td> <td> <td>-</table>"
      ],
      "text/plain": [
       "<IPython.core.display.HTML object>"
      ]
     },
     "metadata": {},
     "output_type": "display_data"
    },
    {
     "name": "stdout",
     "output_type": "stream",
     "text": [
      "\n",
      "\n",
      "\n",
      "Day: That helps, but I still don't know.\n"
     ]
    },
    {
     "data": {
      "text/html": [
       "<style>\n",
       "        .dStyle td {width:2em; height:2em; border:1px solid grey; text-align:center}\n",
       "        .dStyle td:first-child {border-left:solid}\n",
       "        .dStyle td:nth-child(1) {border-right:solid}\n",
       "        .dStyle td:last-child {border-right:solid}\n",
       "        .dStyle tr:first-child  {border-top:solid}\n",
       "        .dStyle tr:nth-child(1) {border-bottom:solid}\n",
       "        .dStyle tr:last-child {border-bottom:solid}\n",
       "        </style><table class=\"dStyle\"><tr><td><td>10<td>11<td>12<td>13<td>14<td>15<td>16<td>17<td>18<td>19<td>20<td>21<tr><td>January<td>O<td>O<td> <td> <td> <td> <td> <td> <td> <td> <td> <td> <tr><td>Febuary<td>O<td>O<td>O<td> <td> <td> <td> <td> <td> <td> <td> <td> <tr><td>March<td> <td> <td>O<td>-<td> <td> <td> <td> <td> <td> <td> <td> <tr><td>April<td> <td> <td> <td>-<td>-<td> <td> <td> <td> <td> <td> <td> <tr><td>May<td> <td> <td> <td> <td>-<td>-<td> <td> <td> <td> <td> <td> <tr><td>June<td> <td> <td> <td> <td> <td>-<td>-<td> <td> <td> <td> <td> <tr><td>July<td> <td> <td> <td> <td> <td> <td>-<td>-<td> <td> <td> <td> <tr><td>August<td> <td> <td> <td> <td> <td> <td> <td>-<td>-<td> <td> <td> <tr><td>September<td> <td> <td> <td> <td> <td> <td> <td> <td>-<td>-<td> <td> <tr><td>October<td> <td> <td> <td> <td> <td> <td> <td> <td> <td>-<td>-<td> <tr><td>November<td> <td> <td> <td> <td> <td> <td> <td> <td> <td> <td>-<td>-<tr><td>December<td> <td> <td> <td> <td> <td> <td> <td> <td> <td> <td> <td>-</table>"
      ],
      "text/plain": [
       "<IPython.core.display.HTML object>"
      ]
     },
     "metadata": {},
     "output_type": "display_data"
    },
    {
     "name": "stdout",
     "output_type": "stream",
     "text": [
      "\n",
      "\n",
      "\n",
      "month: That helps, but I still don't know.\n"
     ]
    },
    {
     "data": {
      "text/html": [
       "<style>\n",
       "        .dStyle td {width:2em; height:2em; border:1px solid grey; text-align:center}\n",
       "        .dStyle td:first-child {border-left:solid}\n",
       "        .dStyle td:nth-child(1) {border-right:solid}\n",
       "        .dStyle td:last-child {border-right:solid}\n",
       "        .dStyle tr:first-child  {border-top:solid}\n",
       "        .dStyle tr:nth-child(1) {border-bottom:solid}\n",
       "        .dStyle tr:last-child {border-bottom:solid}\n",
       "        </style><table class=\"dStyle\"><tr><td><td>10<td>11<td>12<td>13<td>14<td>15<td>16<td>17<td>18<td>19<td>20<td>21<tr><td>January<td>O<td>O<td> <td> <td> <td> <td> <td> <td> <td> <td> <td> <tr><td>Febuary<td>O<td>O<td>O<td> <td> <td> <td> <td> <td> <td> <td> <td> <tr><td>March<td> <td> <td>-<td>-<td> <td> <td> <td> <td> <td> <td> <td> <tr><td>April<td> <td> <td> <td>-<td>-<td> <td> <td> <td> <td> <td> <td> <tr><td>May<td> <td> <td> <td> <td>-<td>-<td> <td> <td> <td> <td> <td> <tr><td>June<td> <td> <td> <td> <td> <td>-<td>-<td> <td> <td> <td> <td> <tr><td>July<td> <td> <td> <td> <td> <td> <td>-<td>-<td> <td> <td> <td> <tr><td>August<td> <td> <td> <td> <td> <td> <td> <td>-<td>-<td> <td> <td> <tr><td>September<td> <td> <td> <td> <td> <td> <td> <td> <td>-<td>-<td> <td> <tr><td>October<td> <td> <td> <td> <td> <td> <td> <td> <td> <td>-<td>-<td> <tr><td>November<td> <td> <td> <td> <td> <td> <td> <td> <td> <td> <td>-<td>-<tr><td>December<td> <td> <td> <td> <td> <td> <td> <td> <td> <td> <td> <td>-</table>"
      ],
      "text/plain": [
       "<IPython.core.display.HTML object>"
      ]
     },
     "metadata": {},
     "output_type": "display_data"
    },
    {
     "name": "stdout",
     "output_type": "stream",
     "text": [
      "\n",
      "\n",
      "\n",
      "day: Now I know when Cheryl's birthday is.\n"
     ]
    },
    {
     "data": {
      "text/html": [
       "<style>\n",
       "        .dStyle td {width:2em; height:2em; border:1px solid grey; text-align:center}\n",
       "        .dStyle td:first-child {border-left:solid}\n",
       "        .dStyle td:nth-child(1) {border-right:solid}\n",
       "        .dStyle td:last-child {border-right:solid}\n",
       "        .dStyle tr:first-child  {border-top:solid}\n",
       "        .dStyle tr:nth-child(1) {border-bottom:solid}\n",
       "        .dStyle tr:last-child {border-bottom:solid}\n",
       "        </style><table class=\"dStyle\"><tr><td><td>10<td>11<td>12<td>13<td>14<td>15<td>16<td>17<td>18<td>19<td>20<td>21<tr><td>January<td>-<td>-<td> <td> <td> <td> <td> <td> <td> <td> <td> <td> <tr><td>Febuary<td>-<td>-<td>O<td> <td> <td> <td> <td> <td> <td> <td> <td> <tr><td>March<td> <td> <td>-<td>-<td> <td> <td> <td> <td> <td> <td> <td> <tr><td>April<td> <td> <td> <td>-<td>-<td> <td> <td> <td> <td> <td> <td> <tr><td>May<td> <td> <td> <td> <td>-<td>-<td> <td> <td> <td> <td> <td> <tr><td>June<td> <td> <td> <td> <td> <td>-<td>-<td> <td> <td> <td> <td> <tr><td>July<td> <td> <td> <td> <td> <td> <td>-<td>-<td> <td> <td> <td> <tr><td>August<td> <td> <td> <td> <td> <td> <td> <td>-<td>-<td> <td> <td> <tr><td>September<td> <td> <td> <td> <td> <td> <td> <td> <td>-<td>-<td> <td> <tr><td>October<td> <td> <td> <td> <td> <td> <td> <td> <td> <td>-<td>-<td> <tr><td>November<td> <td> <td> <td> <td> <td> <td> <td> <td> <td> <td>-<td>-<tr><td>December<td> <td> <td> <td> <td> <td> <td> <td> <td> <td> <td> <td>-</table>"
      ],
      "text/plain": [
       "<IPython.core.display.HTML object>"
      ]
     },
     "metadata": {},
     "output_type": "display_data"
    },
    {
     "name": "stdout",
     "output_type": "stream",
     "text": [
      "\n",
      "\n",
      "\n",
      "Month: Now I also know when Cheryl's birthday is.\n"
     ]
    },
    {
     "data": {
      "text/html": [
       "<style>\n",
       "        .dStyle td {width:2em; height:2em; border:1px solid grey; text-align:center}\n",
       "        .dStyle td:first-child {border-left:solid}\n",
       "        .dStyle td:nth-child(1) {border-right:solid}\n",
       "        .dStyle td:last-child {border-right:solid}\n",
       "        .dStyle tr:first-child  {border-top:solid}\n",
       "        .dStyle tr:nth-child(1) {border-bottom:solid}\n",
       "        .dStyle tr:last-child {border-bottom:solid}\n",
       "        </style><table class=\"dStyle\"><tr><td><td>10<td>11<td>12<td>13<td>14<td>15<td>16<td>17<td>18<td>19<td>20<td>21<tr><td>January<td>-<td>-<td> <td> <td> <td> <td> <td> <td> <td> <td> <td> <tr><td>Febuary<td>-<td>-<td>O<td> <td> <td> <td> <td> <td> <td> <td> <td> <tr><td>March<td> <td> <td>-<td>-<td> <td> <td> <td> <td> <td> <td> <td> <tr><td>April<td> <td> <td> <td>-<td>-<td> <td> <td> <td> <td> <td> <td> <tr><td>May<td> <td> <td> <td> <td>-<td>-<td> <td> <td> <td> <td> <td> <tr><td>June<td> <td> <td> <td> <td> <td>-<td>-<td> <td> <td> <td> <td> <tr><td>July<td> <td> <td> <td> <td> <td> <td>-<td>-<td> <td> <td> <td> <tr><td>August<td> <td> <td> <td> <td> <td> <td> <td>-<td>-<td> <td> <td> <tr><td>September<td> <td> <td> <td> <td> <td> <td> <td> <td>-<td>-<td> <td> <tr><td>October<td> <td> <td> <td> <td> <td> <td> <td> <td> <td>-<td>-<td> <tr><td>November<td> <td> <td> <td> <td> <td> <td> <td> <td> <td> <td>-<td>-<tr><td>December<td> <td> <td> <td> <td> <td> <td> <td> <td> <td> <td> <td>-</table>"
      ],
      "text/plain": [
       "<IPython.core.display.HTML object>"
      ]
     },
     "metadata": {},
     "output_type": "display_data"
    },
    {
     "data": {
      "text/plain": [
       "{'Febuary 12'}"
      ]
     },
     "execution_count": 54,
     "metadata": {},
     "output_type": "execute_result"
    }
   ],
   "source": [
    "statement_deep = [month_initial_simple]\n",
    "for i in range(9):\n",
    "    newstate = partial(day_not_know, prior_statement=statement_deep[-1])\n",
    "    newstate.__doc__ = newstate.func.__doc__\n",
    "    statement_deep.append(newstate)\n",
    "    newstate = partial(month_not_know, prior_statement=statement_deep[-1])\n",
    "    newstate.__doc__ = newstate.func.__doc__\n",
    "    statement_deep.append(newstate)\n",
    "statement_deep.append(partial(day_know, prior_statement=statement_deep[-1]))\n",
    "statement_deep.append(partial(month_know, prior_statement=statement_deep[-1]))\n",
    "\n",
    "show_progression(good_dates, statement_deep)"
   ]
  },
  {
   "cell_type": "code",
   "execution_count": 229,
   "metadata": {},
   "outputs": [],
   "source": [
    "def albert1(date):\n",
    "    \"Albert: I don't know when Cheryl's birthday is, but I know that Bernard does not know too.\"\n",
    "    after_being_told = tell(parse_month(date))\n",
    "    return (not know(after_being_told) \n",
    "            and all(not know(tell(parse_day(d)))\n",
    "                    for d in after_being_told))\n",
    "\n",
    "def bernard1(date):\n",
    "    \"Bernard: I still don't know\"\n",
    "    return not know(hear(tell(parse_day(date)), albert1))\n",
    "\n",
    "def albert2(date):\n",
    "    \"Albert: I still don't know.\"\n",
    "    return not know(hear(tell(parse_month(date)), bernard1))\n",
    "\n",
    "def bernard2(date):\n",
    "    \"Bernard: I still don't know 2\"\n",
    "    return not know(hear(tell(parse_day(date)), albert2))\n",
    "\n",
    "def bernard3(date):\n",
    "    \"Bernard: OK, now I know.\"\n",
    "    return know(hear(tell(parse_day(date)), albert3))\n",
    "\n",
    "def albert3(date):\n",
    "    \"Albert: OK, now I know.\"\n",
    "    return know(hear(tell(parse_month(date)), bernard2))\n",
    "\n",
    "statements = [albert1, bernard1, albert2, bernard2, albert3, bernard3]"
   ]
  },
  {
   "cell_type": "code",
   "execution_count": 437,
   "metadata": {
    "scrolled": false
   },
   "outputs": [
    {
     "name": "stdout",
     "output_type": "stream",
     "text": [
      "{'July 13'}\n",
      "{'July 13'}\n"
     ]
    }
   ],
   "source": [
    "dates = {'May 19', 'May 24', 'March 13', 'July 24', 'July 13', 'June 18', 'April 14', 'June 19', 'March 14', 'April 13'}\n",
    "using(dates)\n",
    "print(hear(dates, *statements[:6]))\n",
    "print(hear(dates, *statement_list[:6]))\n",
    "\n",
    "# print(gen_solution(statement_list, k=20, max_attempts=10000))\n",
    "# show_progression(dates, statements)\n",
    "# show_progression(dates, statements)\n"
   ]
  },
  {
   "cell_type": "code",
   "execution_count": null,
   "metadata": {},
   "outputs": [],
   "source": []
  },
  {
   "cell_type": "code",
   "execution_count": null,
   "metadata": {},
   "outputs": [],
   "source": []
  },
  {
   "cell_type": "code",
   "execution_count": null,
   "metadata": {},
   "outputs": [],
   "source": []
  },
  {
   "cell_type": "code",
   "execution_count": 239,
   "metadata": {},
   "outputs": [],
   "source": [
    "gabe_dates = [\n",
    "  'January 15', 'January 4',\n",
    "  'July 13',    'July 24',   'July 30',\n",
    "  'March 13',   'March 24',\n",
    "  'May 11',     'May 17',    'May 30']\n",
    "\n",
    "cheryl_dates = DATES = {\n",
    "     'May 15',    'May 16',    'May 19',\n",
    "    'June 17',   'June 18',\n",
    "    'July 14',   'July 16',\n",
    "  'August 14', 'August 15', 'August 17'}"
   ]
  },
  {
   "cell_type": "code",
   "execution_count": 240,
   "metadata": {},
   "outputs": [],
   "source": [
    "# Albert and Bernard just became friends with Cheryl, and they want to know when her birthday is. \n",
    "# Cheryl gives them a set of 10 possible dates:\n",
    "\n",
    "def month(date): return date.split()[0]\n",
    "\n",
    "def day(date):   return date.split()[1]\n",
    "\n",
    "# Cheryl then tells Albert and Bernard separately \n",
    "# the month and the day of the birthday respectively.\n",
    "\n",
    "def tell(part):\n",
    "    \"Cheryl tells a part of her birthdate; return a subset of DATES that match the part.\"\n",
    "    return {date for date in DATES if part in date}\n",
    "\n",
    "def know(possible_dates):\n",
    "    \"A person knows the birthdate if they know there is exactly one possible date.\"\n",
    "    return len(possible_dates) == 1\n",
    "\n",
    "def hear(possible_dates, *statements):\n",
    "    \"Return the subset of possible dates that are consistent with all the statements.\"\n",
    "    return {date for date in possible_dates\n",
    "            if all(stmt(date) for stmt in statements)}\n",
    "\n",
    "# Albert and Bernard make three statements:\n",
    "\n",
    "def albert1(date):\n",
    "    \"Albert: I don't know when Cheryl's birthday is, but I know that Bernard does not know too.\"\n",
    "    after_being_told = tell(month(date))\n",
    "    return (not know(after_being_told) \n",
    "            and all(not know(tell(day(d)))\n",
    "                    for d in after_being_told))\n",
    "\n",
    "def bernard1(date):\n",
    "    \"Bernard: At first I don't know when Cheryl's birthday is, but I know now.\"\n",
    "    at_first = tell(day(date))\n",
    "    return (not know(at_first)\n",
    "            and know(hear(at_first, albert1)))\n",
    "\n",
    "\n",
    "def albert2(date):\n",
    "    \"Albert: Then I also know when Cheryl's birthday is.\"\n",
    "    return know(hear(tell(month(date)), bernard1))\n",
    "    \n",
    "# So when is Cheryl's birthday?\n",
    "\n",
    "def cheryls_birthday(dates):\n",
    "    \"Return a list of the possible dates after hearing the three statements.\"\n",
    "    return hear(using(dates), albert1, bernard1, albert2)\n",
    "\n",
    "def using(dates):\n",
    "    \"Make dates be the value of the global variable DATES.\"\n",
    "    global DATES # This is necessary because `tell` looks at `DATES`\n",
    "    DATES = dates\n",
    "    return dates\n",
    "\n",
    "# Some tests\n",
    "\n",
    "assert month('May 19') == 'May'\n",
    "assert day('May 19') == '19'\n",
    "assert albert1('May 19') == False\n",
    "assert albert1('July 14') == True\n",
    "assert know(tell('17')) == False\n",
    "assert know(tell('19')) == True"
   ]
  },
  {
   "cell_type": "code",
   "execution_count": 241,
   "metadata": {},
   "outputs": [
    {
     "name": "stdout",
     "output_type": "stream",
     "text": [
      "{'July 30'}\n",
      "{'July 16'}\n"
     ]
    }
   ],
   "source": [
    "print(cheryls_birthday(gabe_dates))\n",
    "print(cheryls_birthday(cheryl_dates))"
   ]
  },
  {
   "cell_type": "code",
   "execution_count": 242,
   "metadata": {},
   "outputs": [],
   "source": [
    "some_dates = {mo + ' ' + d1 + d2\n",
    "              for mo in ('March', 'April', 'May', 'June', 'July')\n",
    "              for d1 in '12'\n",
    "              for d2 in '3456789'}\n",
    "\n",
    "import random\n",
    "\n",
    "def pick_dates(puzzle=cheryls_birthday, k=10):\n",
    "    \"Pick a set of dates for which the puzzle has a unique solution.\"\n",
    "    while True:\n",
    "        dates = random.sample(tuple(some_dates), k)\n",
    "        solutions = puzzle(dates)\n",
    "        if know(solutions):\n",
    "            return solutions.pop(), dates"
   ]
  },
  {
   "cell_type": "code",
   "execution_count": 243,
   "metadata": {},
   "outputs": [
    {
     "data": {
      "text/plain": [
       "('June 28', ['July 29', 'June 18', 'March 28', 'June 28', 'April 24', 'April 23', 'July 25', 'April 18', 'May 24', 'July 23'])"
      ]
     },
     "execution_count": 243,
     "metadata": {},
     "output_type": "execute_result"
    }
   ],
   "source": [
    "pick_dates()"
   ]
  },
  {
   "cell_type": "code",
   "execution_count": 40,
   "metadata": {},
   "outputs": [],
   "source": [
    "def albert1(date):\n",
    "    \"Albert: I don't know when Cheryl's birthday is, but I know that Bernard does not know too.\"\n",
    "    after_being_told = tell(month(date))\n",
    "    return (not know(after_being_told) \n",
    "            and all(not know(tell(day(d)))\n",
    "                    for d in after_being_told))\n",
    "\n",
    "def bernard1(date):\n",
    "    \"Bernard: I still don't know\"\n",
    "    return not know(hear(tell(day(date)), albert1))\n",
    "\n",
    "def albert2(date):\n",
    "    \"Albert: I still don't know.\"\n",
    "    return not know(hear(tell(month(date)), bernard1))\n",
    "\n",
    "def bernard2(date):\n",
    "    \"Bernard: At first I don't know when Cheryl's birthday is, but I know now.\"\n",
    "    return not know(hear(tell(day(date)), albert2))\n",
    "\n",
    "def albert3(date):\n",
    "    \"Albert: OK, now I know.\"\n",
    "    return know(hear(tell(month(date)), bernard2))\n",
    "\n",
    "def bernard3(date):\n",
    "    \"Bernard: OK, now I know.\"\n",
    "    return know(hear(tell(day(date)), albert3))"
   ]
  },
  {
   "cell_type": "code",
   "execution_count": 41,
   "metadata": {},
   "outputs": [],
   "source": [
    "def cheryls_birthday_complex(dates):\n",
    "    \"Return a set of the dates for which Albert, Bernard, and Eve's statements are true.\"\n",
    "    return hear(using(dates), albert1, bernard1, albert2, bernard2, albert3, bernard3)"
   ]
  },
  {
   "cell_type": "code",
   "execution_count": 42,
   "metadata": {},
   "outputs": [
    {
     "name": "stdout",
     "output_type": "stream",
     "text": [
      "July 13\n",
      "['May 19', 'May 24', 'March 13', 'July 24', 'July 13', 'June 18', 'April 14', 'June 19', 'March 14', 'April 13']\n"
     ]
    }
   ],
   "source": [
    "output = pick_dates(puzzle=cheryls_birthday_complex)\n",
    "result, dates = output[0], output[1]\n",
    "print(result)\n",
    "print(dates)"
   ]
  },
  {
   "cell_type": "code",
   "execution_count": 43,
   "metadata": {},
   "outputs": [],
   "source": [
    "dates = ['May 19', 'May 24', 'March 13', 'July 24', 'July 13', 'June 18', 'April 14', 'June 19', 'March 14', 'April 13']"
   ]
  },
  {
   "cell_type": "code",
   "execution_count": 45,
   "metadata": {},
   "outputs": [
    {
     "data": {
      "text/plain": [
       "{'April 13',\n",
       " 'April 14',\n",
       " 'July 13',\n",
       " 'July 24',\n",
       " 'March 13',\n",
       " 'March 14',\n",
       " 'May 19',\n",
       " 'May 24'}"
      ]
     },
     "execution_count": 45,
     "metadata": {},
     "output_type": "execute_result"
    }
   ],
   "source": [
    "hear(dates, albert1)"
   ]
  },
  {
   "cell_type": "code",
   "execution_count": 46,
   "metadata": {},
   "outputs": [
    {
     "data": {
      "text/plain": [
       "{'April 13',\n",
       " 'April 14',\n",
       " 'July 13',\n",
       " 'July 24',\n",
       " 'March 13',\n",
       " 'March 14',\n",
       " 'May 24'}"
      ]
     },
     "execution_count": 46,
     "metadata": {},
     "output_type": "execute_result"
    }
   ],
   "source": [
    "hear(dates, albert1, bernard1)"
   ]
  },
  {
   "cell_type": "code",
   "execution_count": 47,
   "metadata": {},
   "outputs": [
    {
     "data": {
      "text/plain": [
       "{'April 13', 'April 14', 'July 13', 'July 24', 'March 13', 'March 14'}"
      ]
     },
     "execution_count": 47,
     "metadata": {},
     "output_type": "execute_result"
    }
   ],
   "source": [
    "hear(dates, albert1, bernard1, albert2)"
   ]
  },
  {
   "cell_type": "code",
   "execution_count": 48,
   "metadata": {},
   "outputs": [
    {
     "data": {
      "text/plain": [
       "{'April 13', 'April 14', 'July 13', 'March 13', 'March 14'}"
      ]
     },
     "execution_count": 48,
     "metadata": {},
     "output_type": "execute_result"
    }
   ],
   "source": [
    "hear(dates, albert1, bernard1, albert2, bernard2)"
   ]
  },
  {
   "cell_type": "code",
   "execution_count": 49,
   "metadata": {},
   "outputs": [
    {
     "data": {
      "text/plain": [
       "{'July 13'}"
      ]
     },
     "execution_count": 49,
     "metadata": {},
     "output_type": "execute_result"
    }
   ],
   "source": [
    "hear(dates, albert1, bernard1, albert2, bernard2, albert3)"
   ]
  },
  {
   "cell_type": "code",
   "execution_count": 184,
   "metadata": {},
   "outputs": [
    {
     "data": {
      "text/plain": [
       "{'June 26', 'June 13', 'April 19', 'May 14', 'March 27', 'July 16', 'March 25', 'June 24', 'April 24', 'May 27', 'June 25', 'April 29', 'March 26', 'July 14', 'March 24'}"
      ]
     },
     "execution_count": 184,
     "metadata": {},
     "output_type": "execute_result"
    }
   ],
   "source": []
  },
  {
   "cell_type": "code",
   "execution_count": 321,
   "metadata": {},
   "outputs": [],
   "source": [
    "def a(b, x = 1):\n",
    "    \"\"\"in a\"\"\"\n",
    "    return b * x\n",
    "\n",
    "val = partial(a, x = 10)"
   ]
  },
  {
   "cell_type": "code",
   "execution_count": 338,
   "metadata": {},
   "outputs": [
    {
     "data": {
      "text/plain": [
       "'in a'"
      ]
     },
     "execution_count": 338,
     "metadata": {},
     "output_type": "execute_result"
    }
   ],
   "source": [
    "val.func.__doc__"
   ]
  },
  {
   "cell_type": "code",
   "execution_count": null,
   "metadata": {},
   "outputs": [],
   "source": []
  },
  {
   "cell_type": "code",
   "execution_count": null,
   "metadata": {},
   "outputs": [],
   "source": []
  },
  {
   "cell_type": "code",
   "execution_count": null,
   "metadata": {},
   "outputs": [],
   "source": []
  },
  {
   "cell_type": "code",
   "execution_count": null,
   "metadata": {},
   "outputs": [],
   "source": []
  },
  {
   "cell_type": "code",
   "execution_count": 396,
   "metadata": {},
   "outputs": [
    {
     "name": "stdout",
     "output_type": "stream",
     "text": [
      "<function albert1 at 0x10b44d8b0>\n",
      "July 16\n",
      "May 19\n",
      "August 14\n",
      "June 17\n",
      "May 15\n",
      "May 16\n",
      "June 18\n",
      "August 15\n",
      "August 17\n",
      "July 14\n",
      "{'July 16', 'August 17', 'August 14', 'August 15', 'July 14'}\n",
      "<function bernard1 at 0x10ac6bca0>\n",
      "July 16\n",
      "b: {'July 16', 'May 16'}\n",
      "<function albert1 at 0x10b44d8b0>\n",
      "July 16\n",
      "May 16\n",
      "set()\n",
      "August 17\n",
      "b: {'August 17', 'June 17'}\n",
      "<function albert1 at 0x10b44d8b0>\n",
      "August 17\n",
      "June 17\n",
      "set()\n",
      "August 14\n",
      "b: {'July 14', 'August 14'}\n",
      "<function albert1 at 0x10b44d8b0>\n",
      "July 14\n",
      "August 14\n",
      "set()\n",
      "August 15\n",
      "b: {'August 15', 'May 15'}\n",
      "<function albert1 at 0x10b44d8b0>\n",
      "August 15\n",
      "May 15\n",
      "set()\n",
      "July 14\n",
      "b: {'July 14', 'August 14'}\n",
      "<function albert1 at 0x10b44d8b0>\n",
      "July 14\n",
      "August 14\n",
      "set()\n",
      "set()\n"
     ]
    },
    {
     "data": {
      "text/plain": [
       "set()"
      ]
     },
     "execution_count": 396,
     "metadata": {},
     "output_type": "execute_result"
    }
   ],
   "source": [
    "def tell(part, possible_dates):\n",
    "    \"Cheryl tells a part of her birthdate; return a subset of possible_dates that match the part.\"\n",
    "    return {date for date in possible_dates if part in date}\n",
    "\n",
    "def know(possible_dates):\n",
    "    \"A person knows the birthdate if they know there is exactly one possible date.\"\n",
    "    return len(possible_dates) == 1\n",
    "\n",
    "def hear(possible_dates, statements):\n",
    "    \"Return the subset of possible dates that are consistent with all the statements.\"\n",
    "    current_possible = possible_dates\n",
    "    for stmt in statements:\n",
    "        print(stmt)\n",
    "        tmp_possible = set()\n",
    "        for date in current_possible:\n",
    "            print(date)\n",
    "            if stmt(date, possible_dates):\n",
    "                tmp_possible.add(date)\n",
    "        current_possible = tmp_possible\n",
    "        print(current_possible)\n",
    "    return current_possible\n",
    "\n",
    "def show_with_statements(dates, statements):\n",
    "    return_set = hear(dates, statements)\n",
    "    show(dates, dates - \n",
    "         hear(dates, statements))\n",
    "    return return_set\n",
    "\n",
    "# def show_progression(dates, statements):\n",
    "#     using(dates)\n",
    "#     for i in range(len(statements) + 1):\n",
    "#         if i > 0: \n",
    "#             print(\"\\n\\n\")\n",
    "#             if type(statements[i-1]) is partial:\n",
    "#                 print(statements[i-1].func.__doc__)\n",
    "#             else:\n",
    "#                 print(statements[i-1].__doc__)\n",
    "#         return_set = show_with_statements(dates, statements[:i])\n",
    "#     return return_set\n",
    "\n",
    "\n",
    "#Statments: For a given date - returns true / false if that date is possibly a birthday\n",
    "def albert1(date, possible_dates):\n",
    "    \"Albert: I don't know when Cheryl's birthday is, but I know that Bernard does not know too.\"\n",
    "    after_told = tell(parse_month(date), possible_dates)\n",
    "    return (not know(after_told) \n",
    "            and all(not know(tell(parse_day(d), possible_dates))\n",
    "                    for d in after_told))\n",
    "\n",
    "def bernard1(date, possible_dates):\n",
    "    \"Bernard: At first I don't know when Cheryl's birthday is, but I know now.\"\n",
    "    at_first = tell(parse_day(date), possible_dates)\n",
    "    print(\"b:\", at_first)\n",
    "    return (not know(at_first)\n",
    "            and know(hear(at_first, [albert1])))\n",
    "\n",
    "def albert2(date, possible_dates):\n",
    "    \"Albert: Then I also know when Cheryl's birthday is.\"\n",
    "    after_told = tell(parse_month(date), possible_dates)\n",
    "    return know(hear(after_told, [bernard1]))\n",
    "\n",
    "\n",
    "cheryl_dates = {\n",
    "     'May 15',    'May 16',    'May 19',\n",
    "    'June 17',   'June 18',\n",
    "    'July 14',   'July 16',\n",
    "  'August 14', 'August 15', 'August 17'}\n",
    "\n",
    "statements = [albert1, bernard1, albert2]\n",
    "hear(cheryl_dates, [albert1, bernard1])\n",
    "# show_with_statements(dates, statements)"
   ]
  },
  {
   "cell_type": "code",
   "execution_count": null,
   "metadata": {},
   "outputs": [],
   "source": []
  },
  {
   "cell_type": "markdown",
   "metadata": {},
   "source": [
    "# Interesting scenarios"
   ]
  },
  {
   "cell_type": "code",
   "execution_count": 152,
   "metadata": {},
   "outputs": [
    {
     "name": "stdout",
     "output_type": "stream",
     "text": [
      "{'June 15', 'March 24', 'May 18', 'July 18', 'June 16', 'April 24', 'April 16', 'March 29', 'July 14', 'June 25', 'May 16', 'July 29'}\n",
      "--------------------\n",
      "set()\n",
      "{'April 16'}\n",
      "{'April 16'}\n"
     ]
    },
    {
     "data": {
      "text/html": [
       "<style>\n",
       "        .dStyle td {width:2em; height:2em; border:1px solid grey; text-align:center}\n",
       "        .dStyle td:first-child {border-left:solid}\n",
       "        .dStyle td:nth-child(1) {border-right:solid}\n",
       "        .dStyle td:last-child {border-right:solid}\n",
       "        .dStyle tr:first-child  {border-top:solid}\n",
       "        .dStyle tr:nth-child(1) {border-bottom:solid}\n",
       "        .dStyle tr:last-child {border-bottom:solid}\n",
       "        </style><table class=\"dStyle\"><tr><td><td>14<td>15<td>16<td>18<td>24<td>25<td>29<tr><td>March<td> <td> <td> <td> <td>O<td> <td>O<tr><td>April<td> <td> <td>O<td> <td>O<td> <td> <tr><td>May<td> <td> <td>O<td>O<td> <td> <td> <tr><td>June<td> <td>O<td>O<td> <td> <td>O<td> <tr><td>July<td>O<td> <td> <td>O<td> <td> <td>O</table>"
      ],
      "text/plain": [
       "<IPython.core.display.HTML object>"
      ]
     },
     "metadata": {},
     "output_type": "display_data"
    },
    {
     "name": "stdout",
     "output_type": "stream",
     "text": [
      "\n",
      "\n",
      "\n",
      "Albert: I don't know when Cheryl's birthday is, but I know that Bernard does not know too.\n"
     ]
    },
    {
     "data": {
      "text/html": [
       "<style>\n",
       "        .dStyle td {width:2em; height:2em; border:1px solid grey; text-align:center}\n",
       "        .dStyle td:first-child {border-left:solid}\n",
       "        .dStyle td:nth-child(1) {border-right:solid}\n",
       "        .dStyle td:last-child {border-right:solid}\n",
       "        .dStyle tr:first-child  {border-top:solid}\n",
       "        .dStyle tr:nth-child(1) {border-bottom:solid}\n",
       "        .dStyle tr:last-child {border-bottom:solid}\n",
       "        </style><table class=\"dStyle\"><tr><td><td>14<td>15<td>16<td>18<td>24<td>25<td>29<tr><td>March<td> <td> <td> <td> <td>O<td> <td>O<tr><td>April<td> <td> <td>O<td> <td>O<td> <td> <tr><td>May<td> <td> <td>O<td>O<td> <td> <td> <tr><td>June<td> <td>-<td>-<td> <td> <td>-<td> <tr><td>July<td>-<td> <td> <td>-<td> <td> <td>-</table>"
      ],
      "text/plain": [
       "<IPython.core.display.HTML object>"
      ]
     },
     "metadata": {},
     "output_type": "display_data"
    },
    {
     "name": "stdout",
     "output_type": "stream",
     "text": [
      "\n",
      "\n",
      "\n",
      "Bernard: I still don't know\n"
     ]
    },
    {
     "data": {
      "text/html": [
       "<style>\n",
       "        .dStyle td {width:2em; height:2em; border:1px solid grey; text-align:center}\n",
       "        .dStyle td:first-child {border-left:solid}\n",
       "        .dStyle td:nth-child(1) {border-right:solid}\n",
       "        .dStyle td:last-child {border-right:solid}\n",
       "        .dStyle tr:first-child  {border-top:solid}\n",
       "        .dStyle tr:nth-child(1) {border-bottom:solid}\n",
       "        .dStyle tr:last-child {border-bottom:solid}\n",
       "        </style><table class=\"dStyle\"><tr><td><td>14<td>15<td>16<td>18<td>24<td>25<td>29<tr><td>March<td> <td> <td> <td> <td>O<td> <td>-<tr><td>April<td> <td> <td>O<td> <td>O<td> <td> <tr><td>May<td> <td> <td>O<td>-<td> <td> <td> <tr><td>June<td> <td>-<td>-<td> <td> <td>-<td> <tr><td>July<td>-<td> <td> <td>-<td> <td> <td>-</table>"
      ],
      "text/plain": [
       "<IPython.core.display.HTML object>"
      ]
     },
     "metadata": {},
     "output_type": "display_data"
    },
    {
     "name": "stdout",
     "output_type": "stream",
     "text": [
      "\n",
      "\n",
      "\n",
      "Albert: I still don't know.\n"
     ]
    },
    {
     "data": {
      "text/html": [
       "<style>\n",
       "        .dStyle td {width:2em; height:2em; border:1px solid grey; text-align:center}\n",
       "        .dStyle td:first-child {border-left:solid}\n",
       "        .dStyle td:nth-child(1) {border-right:solid}\n",
       "        .dStyle td:last-child {border-right:solid}\n",
       "        .dStyle tr:first-child  {border-top:solid}\n",
       "        .dStyle tr:nth-child(1) {border-bottom:solid}\n",
       "        .dStyle tr:last-child {border-bottom:solid}\n",
       "        </style><table class=\"dStyle\"><tr><td><td>14<td>15<td>16<td>18<td>24<td>25<td>29<tr><td>March<td> <td> <td> <td> <td>-<td> <td>-<tr><td>April<td> <td> <td>O<td> <td>O<td> <td> <tr><td>May<td> <td> <td>-<td>-<td> <td> <td> <tr><td>June<td> <td>-<td>-<td> <td> <td>-<td> <tr><td>July<td>-<td> <td> <td>-<td> <td> <td>-</table>"
      ],
      "text/plain": [
       "<IPython.core.display.HTML object>"
      ]
     },
     "metadata": {},
     "output_type": "display_data"
    },
    {
     "name": "stdout",
     "output_type": "stream",
     "text": [
      "\n",
      "\n",
      "\n",
      "Bernard: I still don't know 2\n"
     ]
    },
    {
     "data": {
      "text/html": [
       "<style>\n",
       "        .dStyle td {width:2em; height:2em; border:1px solid grey; text-align:center}\n",
       "        .dStyle td:first-child {border-left:solid}\n",
       "        .dStyle td:nth-child(1) {border-right:solid}\n",
       "        .dStyle td:last-child {border-right:solid}\n",
       "        .dStyle tr:first-child  {border-top:solid}\n",
       "        .dStyle tr:nth-child(1) {border-bottom:solid}\n",
       "        .dStyle tr:last-child {border-bottom:solid}\n",
       "        </style><table class=\"dStyle\"><tr><td><td>14<td>15<td>16<td>18<td>24<td>25<td>29<tr><td>March<td> <td> <td> <td> <td>-<td> <td>-<tr><td>April<td> <td> <td>O<td> <td>-<td> <td> <tr><td>May<td> <td> <td>-<td>-<td> <td> <td> <tr><td>June<td> <td>-<td>-<td> <td> <td>-<td> <tr><td>July<td>-<td> <td> <td>-<td> <td> <td>-</table>"
      ],
      "text/plain": [
       "<IPython.core.display.HTML object>"
      ]
     },
     "metadata": {},
     "output_type": "display_data"
    },
    {
     "name": "stdout",
     "output_type": "stream",
     "text": [
      "\n",
      "\n",
      "\n",
      "Albert: OK, now I know.\n"
     ]
    },
    {
     "data": {
      "text/html": [
       "<style>\n",
       "        .dStyle td {width:2em; height:2em; border:1px solid grey; text-align:center}\n",
       "        .dStyle td:first-child {border-left:solid}\n",
       "        .dStyle td:nth-child(1) {border-right:solid}\n",
       "        .dStyle td:last-child {border-right:solid}\n",
       "        .dStyle tr:first-child  {border-top:solid}\n",
       "        .dStyle tr:nth-child(1) {border-bottom:solid}\n",
       "        .dStyle tr:last-child {border-bottom:solid}\n",
       "        </style><table class=\"dStyle\"><tr><td><td>14<td>15<td>16<td>18<td>24<td>25<td>29<tr><td>March<td> <td> <td> <td> <td>-<td> <td>-<tr><td>April<td> <td> <td>O<td> <td>-<td> <td> <tr><td>May<td> <td> <td>-<td>-<td> <td> <td> <tr><td>June<td> <td>-<td>-<td> <td> <td>-<td> <tr><td>July<td>-<td> <td> <td>-<td> <td> <td>-</table>"
      ],
      "text/plain": [
       "<IPython.core.display.HTML object>"
      ]
     },
     "metadata": {},
     "output_type": "display_data"
    },
    {
     "name": "stdout",
     "output_type": "stream",
     "text": [
      "\n",
      "\n",
      "\n",
      "Bernard: OK, now I know.\n"
     ]
    },
    {
     "data": {
      "text/html": [
       "<style>\n",
       "        .dStyle td {width:2em; height:2em; border:1px solid grey; text-align:center}\n",
       "        .dStyle td:first-child {border-left:solid}\n",
       "        .dStyle td:nth-child(1) {border-right:solid}\n",
       "        .dStyle td:last-child {border-right:solid}\n",
       "        .dStyle tr:first-child  {border-top:solid}\n",
       "        .dStyle tr:nth-child(1) {border-bottom:solid}\n",
       "        .dStyle tr:last-child {border-bottom:solid}\n",
       "        </style><table class=\"dStyle\"><tr><td><td>14<td>15<td>16<td>18<td>24<td>25<td>29<tr><td>March<td> <td> <td> <td> <td>-<td> <td>-<tr><td>April<td> <td> <td>-<td> <td>-<td> <td> <tr><td>May<td> <td> <td>-<td>-<td> <td> <td> <tr><td>June<td> <td>-<td>-<td> <td> <td>-<td> <tr><td>July<td>-<td> <td> <td>-<td> <td> <td>-</table>"
      ],
      "text/plain": [
       "<IPython.core.display.HTML object>"
      ]
     },
     "metadata": {},
     "output_type": "display_data"
    }
   ],
   "source": [
    "dates = {'April 16',\n",
    " 'April 24',\n",
    " 'July 14',\n",
    " 'July 18',\n",
    " 'July 29',\n",
    " 'June 15',\n",
    " 'June 16',\n",
    " 'June 25',\n",
    " 'March 24',\n",
    " 'March 29',\n",
    " 'May 16',\n",
    " 'May 18'}\n",
    "\n",
    "def albert1(date):\n",
    "    \"Albert: I don't know when Cheryl's birthday is, but I know that Bernard does not know too.\"\n",
    "    after_being_told = tell(parse_month(date))\n",
    "    return (not know(after_being_told) \n",
    "            and all(not know(tell(parse_day(d)))\n",
    "                    for d in after_being_told))\n",
    "\n",
    "def bernard1(date):\n",
    "    \"Bernard: I still don't know\"\n",
    "    return not know(hear(tell(parse_day(date)), albert1))\n",
    "\n",
    "def albert2(date):\n",
    "    \"Albert: I still don't know.\"\n",
    "    return not know(hear(tell(parse_month(date)), bernard1))\n",
    "\n",
    "def bernard2(date):\n",
    "    \"Bernard: I still don't know 2\"\n",
    "    return not know(hear(tell(parse_day(date)), albert2))\n",
    "\n",
    "def bernard3(date):\n",
    "    \"Bernard: OK, now I know.\"\n",
    "    return know(hear(tell(parse_day(date)), albert3))\n",
    "\n",
    "def albert3(date):\n",
    "    \"Albert: OK, now I know.\"\n",
    "    return know(hear(tell(parse_month(date)), bernard2))\n",
    "\n",
    "\n",
    "def month_initial(date):\n",
    "    \"month: I don't know when Cheryl's birthday is, but I know that month does not know too.\"\n",
    "    after_being_told = tell(parse_month(date))\n",
    "    return (not know(after_being_told) \n",
    "            and all(not know(tell(parse_day(d)))\n",
    "                    for d in after_being_told))\n",
    "\n",
    "def day_not_know_complicated(date, prior_statement):\n",
    "    \"day: I still don't know, but I know that month does not know.\"\n",
    "    after_hear_day = hear(tell(parse_day(date)), prior_statement)\n",
    "    after_hear_month = hear(tell(parse_month(date)), prior_statement)\n",
    "    return (not know(after_hear_day)\n",
    "            and all(not know(after_hear_month)\n",
    "                    for d in after_hear_day))\n",
    "\n",
    "def month_not_know_complicated(date, prior_statement):\n",
    "    \"month: I still don't know, but I know that day does not know.\"\n",
    "    after_hear_day = hear(tell(parse_day(date)), prior_statement)\n",
    "    after_hear_month = hear(tell(parse_month(date)), prior_statement)\n",
    "    return (not know(after_hear_month)\n",
    "            and all(not know(after_hear_day)\n",
    "                    for d in after_hear_month))\n",
    "\n",
    "# @cache\n",
    "def day_not_know(date, prior_statement):\n",
    "    \"month: I still don't know, but I know that day does not know.\"\n",
    "    # Same as day not know, but using for the doc string.\n",
    "    after_hear_day = hear(tell(parse_day(date)), prior_statement)\n",
    "    after_hear_month = hear(tell(parse_month(date)), prior_statement)\n",
    "    if len(after_hear_month - after_hear_day) > 0:\n",
    "        return not know(after_hear_day)\n",
    "    return False\n",
    "\n",
    "# @cache\n",
    "def month_not_know(date, prior_statement):\n",
    "    \"month: I still don't know, but I know that day does not know.\"\n",
    "    # Same as day not know, but using for the doc string.\n",
    "    after_hear_day = hear(tell(parse_day(date)), prior_statement)\n",
    "    after_hear_month = hear(tell(parse_month(date)), prior_statement)\n",
    "#     print(\"mnk\", len(after_hear_day) - len(after_hear_month))\n",
    "    if len(after_hear_day - after_hear_month) > 0:\n",
    "        return not know(after_hear_month)\n",
    "    return False\n",
    "\n",
    "def day_know(date, prior_statement):\n",
    "    \"day: Now I also know when Cheryl's birthday is.\"\n",
    "    return know(hear(tell(parse_day(date)), prior_statement))\n",
    "\n",
    "def month_know(date, prior_statement):\n",
    "    \"Month: Now I also know when Cheryl's birthday is.\"\n",
    "    return know(hear(tell(parse_month(date)), prior_statement))\n",
    "\n",
    "\n",
    "statement_list = [month_initial]\n",
    "statement_list.append(partial(day_not_know, prior_statement=statement_list[-1]))\n",
    "statement_list.append(partial(month_not_know, prior_statement=statement_list[-1]))\n",
    "statement_list.append(partial(day_not_know, prior_statement=statement_list[-1]))\n",
    "statement_list.append(partial(month_know, prior_statement=statement_list[-1]))\n",
    "statement_list.append(partial(day_know, prior_statement=statement_list[-1]))\n",
    "\n",
    "statement_list_complicated = [month_initial]\n",
    "statement_list_complicated.append(partial(day_not_know_complicated, prior_statement=statement_list_complicated[-1]))\n",
    "statement_list_complicated.append(partial(month_not_know_complicated, prior_statement=statement_list_complicated[-1]))\n",
    "statement_list_complicated.append(partial(day_not_know_complicated, prior_statement=statement_list_complicated[-1]))\n",
    "statement_list_complicated.append(partial(month_know, prior_statement=statement_list_complicated[-1]))\n",
    "statement_list_complicated.append(partial(day_know, prior_statement=statement_list_complicated[-1]))\n",
    "\n",
    "depth_check = 6\n",
    "if dates != None:\n",
    "    print(dates)\n",
    "    print(\"--------------------\")\n",
    "    print(hear(dates, *statements[:depth_check]))\n",
    "    print(hear(dates, *statement_list[:depth_check]))\n",
    "    print(hear(dates, *statement_list_complicated[:depth_check]))\n",
    "    show_progression(dates, statements)\n"
   ]
  },
  {
   "cell_type": "code",
   "execution_count": null,
   "metadata": {},
   "outputs": [],
   "source": []
  }
 ],
 "metadata": {
  "kernelspec": {
   "display_name": "Python 3",
   "language": "python",
   "name": "python3"
  },
  "language_info": {
   "codemirror_mode": {
    "name": "ipython",
    "version": 3
   },
   "file_extension": ".py",
   "mimetype": "text/x-python",
   "name": "python",
   "nbconvert_exporter": "python",
   "pygments_lexer": "ipython3",
   "version": "3.9.0"
  }
 },
 "nbformat": 4,
 "nbformat_minor": 2
}
