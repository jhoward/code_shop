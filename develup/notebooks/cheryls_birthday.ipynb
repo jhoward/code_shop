{
 "cells": [
  {
   "cell_type": "code",
   "execution_count": 3,
   "metadata": {},
   "outputs": [],
   "source": [
    "gabe_dates = [\n",
    "  'January 15', 'January 4',\n",
    "  'July 13',    'July 24',   'July 30',\n",
    "  'March 13',   'March 24',\n",
    "  'May 11',     'May 17',    'May 30']\n",
    "\n",
    "cheryl_dates = DATES = {\n",
    "     'May 15',    'May 16',    'May 19',\n",
    "    'June 17',   'June 18',\n",
    "    'July 14',   'July 16',\n",
    "  'August 14', 'August 15', 'August 17'}"
   ]
  },
  {
   "cell_type": "code",
   "execution_count": 2,
   "metadata": {},
   "outputs": [],
   "source": [
    "# Albert and Bernard just became friends with Cheryl, and they want to know when her birthday is. \n",
    "# Cheryl gives them a set of 10 possible dates:\n",
    "\n",
    "\n",
    "\n",
    "def month(date): return date.split()[0]\n",
    "\n",
    "def day(date):   return date.split()[1]\n",
    "\n",
    "# Cheryl then tells Albert and Bernard separately \n",
    "# the month and the day of the birthday respectively.\n",
    "\n",
    "def tell(part):\n",
    "    \"Cheryl tells a part of her birthdate; return a subset of DATES that match the part.\"\n",
    "    return {date for date in DATES if part in date}\n",
    "\n",
    "def know(possible_dates):\n",
    "    \"A person knows the birthdate if they know there is exactly one possible date.\"\n",
    "    return len(possible_dates) == 1\n",
    "\n",
    "def hear(possible_dates, *statements):\n",
    "    \"Return the subset of possible dates that are consistent with all the statements.\"\n",
    "    return {date for date in possible_dates\n",
    "            if all(stmt(date) for stmt in statements)}\n",
    "\n",
    "# Albert and Bernard make three statements:\n",
    "\n",
    "def albert1(date):\n",
    "    \"Albert: I don't know when Cheryl's birthday is, but I know that Bernard does not know too.\"\n",
    "    after_being_told = tell(month(date))\n",
    "    return (not know(after_being_told) \n",
    "            and all(not know(tell(day(d)))\n",
    "                    for d in after_being_told))\n",
    "\n",
    "def bernard1(date):\n",
    "    \"Bernard: At first I don't know when Cheryl's birthday is, but I know now.\"\n",
    "    at_first = tell(day(date))\n",
    "    return (not know(at_first)\n",
    "            and know(hear(at_first, albert1)))\n",
    "\n",
    "def albert2(date):\n",
    "    \"Albert: Then I also know when Cheryl's birthday is.\"\n",
    "    return know(hear(tell(month(date)), bernard1))\n",
    "    \n",
    "# So when is Cheryl's birthday?\n",
    "\n",
    "def cheryls_birthday(dates):\n",
    "    \"Return a list of the possible dates after hearing the three statements.\"\n",
    "    return hear(using(dates), albert1, bernard1, albert2)\n",
    "\n",
    "def using(dates):\n",
    "    \"Make dates be the value of the global variable DATES.\"\n",
    "    global DATES # This is necessary because `tell` looks at `DATES`\n",
    "    DATES = dates\n",
    "    return dates\n",
    "\n",
    "# Some tests\n",
    "\n",
    "assert month('May 19') == 'May'\n",
    "assert day('May 19') == '19'\n",
    "assert albert1('May 19') == False\n",
    "assert albert1('July 14') == True\n",
    "assert know(tell('17')) == False\n",
    "assert know(tell('19')) == True"
   ]
  },
  {
   "cell_type": "code",
   "execution_count": 5,
   "metadata": {},
   "outputs": [
    {
     "name": "stdout",
     "output_type": "stream",
     "text": [
      "{'July 30'}\n",
      "{'July 16'}\n"
     ]
    }
   ],
   "source": [
    "print(cheryls_birthday(gabe_dates))\n",
    "print(cheryls_birthday(cheryl_dates))"
   ]
  },
  {
   "cell_type": "code",
   "execution_count": 9,
   "metadata": {},
   "outputs": [],
   "source": [
    "some_dates = {mo + ' ' + d1 + d2\n",
    "              for mo in ('March', 'April', 'May', 'June', 'July')\n",
    "              for d1 in '12'\n",
    "              for d2 in '3456789'}\n",
    "\n",
    "import random\n",
    "\n",
    "def pick_dates(puzzle=cheryls_birthday, k=10):\n",
    "    \"Pick a set of dates for which the puzzle has a unique solution.\"\n",
    "    while True:\n",
    "        dates = set(random.sample(some_dates, k))\n",
    "        solutions = puzzle(dates)\n",
    "        if know(solutions):\n",
    "            return solutions.pop(), dates"
   ]
  },
  {
   "cell_type": "code",
   "execution_count": 10,
   "metadata": {},
   "outputs": [
    {
     "data": {
      "text/plain": [
       "('March 18',\n",
       " {'July 24',\n",
       "  'June 19',\n",
       "  'June 27',\n",
       "  'March 18',\n",
       "  'March 19',\n",
       "  'March 27',\n",
       "  'May 18',\n",
       "  'May 25',\n",
       "  'May 26',\n",
       "  'May 29'})"
      ]
     },
     "execution_count": 10,
     "metadata": {},
     "output_type": "execute_result"
    }
   ],
   "source": [
    "pick_dates()"
   ]
  },
  {
   "cell_type": "code",
   "execution_count": 35,
   "metadata": {},
   "outputs": [],
   "source": [
    "def albert1(date):\n",
    "    \"Albert: I don't know when Cheryl's birthday is, but I know that Bernard does not know too.\"\n",
    "    after_being_told = tell(month(date))\n",
    "    return (not know(after_being_told) \n",
    "            and all(not know(tell(day(d)))\n",
    "                    for d in after_being_told))\n",
    "\n",
    "def bernard1(date):\n",
    "    \"Bernard: At first I don't know when Cheryl's birthday is, but I know now.\"\n",
    "    return not know(hear(tell(day(date)), albert1))\n",
    "\n",
    "def albert2(date):\n",
    "    \"Albert: I still don't know.\"\n",
    "    return not know(hear(tell(month(date)), bernard1))\n",
    "\n",
    "def bernard2(date):\n",
    "    \"Bernard: At first I don't know when Cheryl's birthday is, but I know now.\"\n",
    "    return not know(hear(tell(day(date)), albert2))\n",
    "\n",
    "def albert3(date):\n",
    "    \"Albert: OK, now I know.\"\n",
    "    return know(hear(tell(month(date)), bernard2))\n",
    "\n",
    "def bernard3(date):\n",
    "    \"Bernard: OK, now I know.\"\n",
    "    return know(hear(tell(day(date)), albert3))"
   ]
  },
  {
   "cell_type": "code",
   "execution_count": 36,
   "metadata": {},
   "outputs": [],
   "source": [
    "def cheryls_birthday_complex(dates):\n",
    "    \"Return a set of the dates for which Albert, Bernard, and Eve's statements are true.\"\n",
    "    return hear(using(dates), albert1, bernard1, albert2, bernard2, albert3, bernard3)"
   ]
  },
  {
   "cell_type": "code",
   "execution_count": 39,
   "metadata": {},
   "outputs": [
    {
     "name": "stdout",
     "output_type": "stream",
     "text": [
      "May 18\n",
      "{'June 23', 'April 19', 'May 26', 'April 23', 'July 25', 'June 18', 'March 26', 'May 18', 'June 19', 'March 25'}\n"
     ]
    }
   ],
   "source": [
    "output = pick_dates(puzzle=cheryls_birthday_complex)\n",
    "result, dates = output[0], output[1]\n",
    "print(result)\n",
    "print(dates)\n"
   ]
  },
  {
   "cell_type": "code",
   "execution_count": 40,
   "metadata": {},
   "outputs": [
    {
     "name": "stdout",
     "output_type": "stream",
     "text": [
      "June 23\n",
      "April 19\n",
      "May 26\n",
      "April 23\n",
      "June 18\n",
      "March 26\n",
      "May 18\n",
      "June 19\n",
      "March 25\n"
     ]
    }
   ],
   "source": [
    "using(dates)\n",
    "for d in dates:\n",
    "    if albert1(d):\n",
    "        print()\n"
   ]
  },
  {
   "cell_type": "code",
   "execution_count": null,
   "metadata": {},
   "outputs": [],
   "source": []
  }
 ],
 "metadata": {
  "kernelspec": {
   "display_name": "Python 3",
   "language": "python",
   "name": "python3"
  },
  "language_info": {
   "codemirror_mode": {
    "name": "ipython",
    "version": 3
   },
   "file_extension": ".py",
   "mimetype": "text/x-python",
   "name": "python",
   "nbconvert_exporter": "python",
   "pygments_lexer": "ipython3",
   "version": "3.7.7"
  }
 },
 "nbformat": 4,
 "nbformat_minor": 2
}
