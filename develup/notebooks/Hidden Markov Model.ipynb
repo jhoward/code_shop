{
 "cells": [
  {
   "cell_type": "code",
   "execution_count": 1,
   "id": "023deb14",
   "metadata": {},
   "outputs": [],
   "source": [
    "import numpy as np"
   ]
  },
  {
   "cell_type": "code",
   "execution_count": 21,
   "id": "dbf4e277",
   "metadata": {},
   "outputs": [],
   "source": [
    "observed = ['hot', 'cold']\n",
    "latent = ['e1', 'e2', 'e3']\n",
    "\n",
    "transition = np.array([\n",
    "    [0.7, 0.3],\n",
    "    [0.4, 0.6],\n",
    "])\n",
    "emission = np.array([\n",
    "    [0.1, 0.4, 0.5],\n",
    "    [0.7, 0.2, 0.1],\n",
    "])\n",
    "initial = np.array([\n",
    "    [0.6, 0.4]\n",
    "])"
   ]
  },
  {
   "cell_type": "code",
   "execution_count": 45,
   "id": "a7fb79c6",
   "metadata": {},
   "outputs": [
    {
     "data": {
      "text/plain": [
       "array([0.232, 0.084])"
      ]
     },
     "execution_count": 45,
     "metadata": {},
     "output_type": "execute_result"
    }
   ],
   "source": [
    "np.sum(initial.T * transition * emission[:, 1], axis=0)"
   ]
  },
  {
   "cell_type": "code",
   "execution_count": 49,
   "id": "d25ffaae",
   "metadata": {},
   "outputs": [],
   "source": [
    "def forward_one(obs, initial = initial):\n",
    "    return np.sum(initial.T * transition * emission[:, obs], axis=0)"
   ]
  },
  {
   "cell_type": "code",
   "execution_count": 53,
   "id": "0832b1b5",
   "metadata": {},
   "outputs": [
    {
     "data": {
      "text/plain": [
       "array([0.1276 , 0.00756])"
      ]
     },
     "execution_count": 53,
     "metadata": {},
     "output_type": "execute_result"
    }
   ],
   "source": [
    "forward_one(2, forward_one(1))"
   ]
  },
  {
   "cell_type": "code",
   "execution_count": 72,
   "id": "384fea19",
   "metadata": {},
   "outputs": [
    {
     "data": {
      "text/plain": [
       "array([0.232, 0.084])"
      ]
     },
     "execution_count": 72,
     "metadata": {},
     "output_type": "execute_result"
    }
   ],
   "source": [
    "new_initial = forward_one(1)\n",
    "new_initial"
   ]
  },
  {
   "cell_type": "code",
   "execution_count": 78,
   "id": "66ea071e",
   "metadata": {},
   "outputs": [
    {
     "data": {
      "text/plain": [
       "array([[0.0812 , 0.00336],\n",
       "       [0.0348 , 0.00504]])"
      ]
     },
     "execution_count": 78,
     "metadata": {},
     "output_type": "execute_result"
    }
   ],
   "source": [
    "new_initial * transition.T * emission[:, 2]"
   ]
  },
  {
   "cell_type": "code",
   "execution_count": 69,
   "id": "9f7db5bc",
   "metadata": {},
   "outputs": [
    {
     "name": "stdout",
     "output_type": "stream",
     "text": [
      "0.0812\n",
      "0.016800000000000002\n"
     ]
    }
   ],
   "source": [
    "print(0.232*.7*.5)\n",
    "print(0.084*.4*.5)"
   ]
  },
  {
   "cell_type": "code",
   "execution_count": 64,
   "id": "b08dc4ad",
   "metadata": {},
   "outputs": [
    {
     "name": "stdout",
     "output_type": "stream",
     "text": [
      "0.00504\n",
      "0.00696\n"
     ]
    }
   ],
   "source": [
    "print(0.232*0.3*0.1)\n",
    "print(0.084*0.6*0.1)"
   ]
  },
  {
   "cell_type": "code",
   "execution_count": null,
   "id": "d9770fa3",
   "metadata": {},
   "outputs": [],
   "source": []
  }
 ],
 "metadata": {
  "kernelspec": {
   "display_name": "Python 3 (ipykernel)",
   "language": "python",
   "name": "python3"
  },
  "language_info": {
   "codemirror_mode": {
    "name": "ipython",
    "version": 3
   },
   "file_extension": ".py",
   "mimetype": "text/x-python",
   "name": "python",
   "nbconvert_exporter": "python",
   "pygments_lexer": "ipython3",
   "version": "3.9.9"
  }
 },
 "nbformat": 4,
 "nbformat_minor": 5
}
