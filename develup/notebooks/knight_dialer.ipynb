{
 "cells": [
  {
   "cell_type": "markdown",
   "metadata": {},
   "source": [
    "# The Knight Dialer \n",
    "\n",
    "Imagine you place a knight chess piece on a phone dial pad. This chess piece moves in an uppercase “L” shape: two steps horizontally followed by one vertically, or one step horizontally then two vertically:\n",
    "\n",
    "\n",
    "![alt text](./images/keypad.png \"Knight moves on keypad\")\n",
    "\n",
    "Suppose you dial keys on the keypad using only hops a knight can make. Every time the knight lands on a key, we dial that key and make another hop. The starting position counts as being dialed.\n",
    "\n",
    "How many distinct numbers can you dial in N hops from a particular starting position?\n",
    "\n",
    "This problem is discussed [here](https://alexgolec.dev/google-interview-questions-deconstructed-the-knights-dialer/)\n",
    "\n",
    "\n",
    "\n",
    "\n",
    "### Example:\n",
    "\n",
    "Supposed N = 2 and start = 6.  \n",
    "\n",
    "Then the possible solutions are:\n",
    "* 6–1–8\n",
    "* 6–1–6\n",
    "* 6–7–2\n",
    "* 6–7–6\n",
    "* 6–0–4\n",
    "* 6–0–6"
   ]
  },
  {
   "cell_type": "code",
   "execution_count": 4,
   "metadata": {},
   "outputs": [],
   "source": [
    "neighbor_map = {\n",
    "    1: (6, 8),\n",
    "    2: (7, 9),\n",
    "    3: (4, 8),\n",
    "    4: (0, 3, 9),\n",
    "    5: (),\n",
    "    6: (1, 0, 7),\n",
    "    7: (2, 6),\n",
    "    8: (1, 3),\n",
    "    9: (2, 4),\n",
    "    0: (4, 6)\n",
    "}\n",
    "\n",
    "def get_neighbors(digit, neighbor_map=neighbor_map):\n",
    "    return neighbor_map[digit]"
   ]
  },
  {
   "cell_type": "code",
   "execution_count": 86,
   "metadata": {},
   "outputs": [],
   "source": [
    "from functools import lru_cache\n",
    "\n",
    "def generate_possibilities(start, num_hops, sequence=[]):\n",
    "\n",
    "    if num_hops == 0:\n",
    "        yield sequence + [start]\n",
    "        return \n",
    "        \n",
    "    for neighbor in get_neighbors(start):\n",
    "        yield from generate_possibilities(neighbor, num_hops - 1, sequence + [start])\n",
    "        \n",
    "\n",
    "def count_possibilities(start, num_hops):\n",
    "    total = 0\n",
    "    for _ in generate_possibilities(start, num_hops):\n",
    "        total += 1\n",
    "        \n",
    "    return total\n",
    "\n",
    "\n",
    "def count_without_generate(start, num_hops):\n",
    "    \n",
    "    if num_hops == 0:\n",
    "        return 1\n",
    "    \n",
    "    total = 0\n",
    "    \n",
    "    for neighbor in get_neighbors(start):\n",
    "        total += count_without_generate(neighbor, num_hops - 1)\n",
    "        \n",
    "    return total\n",
    "\n",
    "\n",
    "@lru_cache\n",
    "def count_without_generate_wrapped(start, num_hops):\n",
    "    \n",
    "    if num_hops == 0:\n",
    "        return 1\n",
    "    \n",
    "    total = 0\n",
    "    \n",
    "    for neighbor in get_neighbors(start):\n",
    "        total += count_without_generate_wrapped(neighbor, num_hops - 1)\n",
    "        \n",
    "    return total\n",
    "\n",
    "\n",
    "def count_with_memoization(start, num_hops, cache = {}):\n",
    "    \n",
    "    if (start, num_hops) in cache.keys():\n",
    "        return cache[(start, num_hops)]\n",
    "    \n",
    "    if num_hops == 0:\n",
    "        cache[(start, num_hops)] = 1\n",
    "        return 1\n",
    "    \n",
    "    total = 0\n",
    "    \n",
    "    for neighbor in get_neighbors(start):\n",
    "        val = count_with_memoization(neighbor, num_hops - 1, cache)\n",
    "        cache[(neighbor, num_hops - 1)] = val\n",
    "        total += val\n",
    "        \n",
    "    return total\n",
    "\n",
    "\n",
    "# O(avg_num_neighbors^num_hops)"
   ]
  },
  {
   "cell_type": "code",
   "execution_count": 23,
   "metadata": {},
   "outputs": [
    {
     "name": "stdout",
     "output_type": "stream",
     "text": [
      "CPU times: user 8 µs, sys: 1 µs, total: 9 µs\n",
      "Wall time: 11 µs\n"
     ]
    },
    {
     "data": {
      "text/plain": [
       "18136064"
      ]
     },
     "execution_count": 23,
     "metadata": {},
     "output_type": "execute_result"
    }
   ],
   "source": [
    "%time count_with_memoization(6, 20)"
   ]
  },
  {
   "cell_type": "code",
   "execution_count": 10,
   "metadata": {},
   "outputs": [
    {
     "name": "stdout",
     "output_type": "stream",
     "text": [
      "CPU times: user 29.8 s, sys: 60.7 ms, total: 29.8 s\n",
      "Wall time: 29.9 s\n"
     ]
    },
    {
     "data": {
      "text/plain": [
       "18136064"
      ]
     },
     "execution_count": 10,
     "metadata": {},
     "output_type": "execute_result"
    }
   ],
   "source": [
    "%time count_possibilities(6, 20)"
   ]
  },
  {
   "cell_type": "code",
   "execution_count": 15,
   "metadata": {},
   "outputs": [
    {
     "name": "stdout",
     "output_type": "stream",
     "text": [
      "CPU times: user 6.33 s, sys: 15.4 ms, total: 6.35 s\n",
      "Wall time: 6.36 s\n"
     ]
    },
    {
     "data": {
      "text/plain": [
       "18136064"
      ]
     },
     "execution_count": 15,
     "metadata": {},
     "output_type": "execute_result"
    }
   ],
   "source": [
    "%time count_without_generate(6, 20)"
   ]
  },
  {
   "cell_type": "code",
   "execution_count": 87,
   "metadata": {},
   "outputs": [
    {
     "name": "stdout",
     "output_type": "stream",
     "text": [
      "CPU times: user 88 µs, sys: 0 ns, total: 88 µs\n",
      "Wall time: 89.9 µs\n"
     ]
    },
    {
     "data": {
      "text/plain": [
       "18136064"
      ]
     },
     "execution_count": 87,
     "metadata": {},
     "output_type": "execute_result"
    }
   ],
   "source": [
    "%time count_without_generate_wrapped(6, 20)"
   ]
  },
  {
   "cell_type": "code",
   "execution_count": 76,
   "metadata": {},
   "outputs": [
    {
     "name": "stdout",
     "output_type": "stream",
     "text": [
      "I am wrapping this\n",
      "hello\n",
      "hello\n"
     ]
    }
   ],
   "source": [
    "\n",
    "\n",
    "# def memo(seq_counter):\n",
    "#     cache = {}\n",
    "#     def wrapper(start, num_hops):\n",
    "#         print(cache)\n",
    "    \n",
    "#         if (start, num_hops) not in cache.keys():\n",
    "#             cache[(start, num_hops)] = seq_counter(start, num_hops)\n",
    "#         return cache[(start, num_hops)]\n",
    "#     return wrapper\n",
    "\n",
    "# count_without_generate = memo(count_without_generate)\n",
    "        \n",
    "\n",
    "# def count_with_memoization(start, num_hops, cache = {}):\n",
    "    \n",
    "#     if (start, num_hops) in cache.keys():\n",
    "#         return cache[(start, num_hops)]\n",
    "    \n",
    "#     if num_hops == 0:\n",
    "#         cache[(start, num_hops)] = 1\n",
    "#         return 1\n",
    "    \n",
    "#     total = 0\n",
    "    \n",
    "#     for neighbor in get_neighbors(start):\n",
    "#         val = count_with_memoization(neighbor, num_hops - 1, cache)\n",
    "#         cache[(neighbor, num_hops - 1)] = val\n",
    "#         total += val\n",
    "        \n",
    "#     return total"
   ]
  },
  {
   "cell_type": "code",
   "execution_count": 77,
   "metadata": {},
   "outputs": [
    {
     "name": "stdout",
     "output_type": "stream",
     "text": [
      "{(4, 18): 3463680, (8, 18): 2140672, (3, 19): 5604352, (4, 19): 9068032, (8, 19): 5604352, (3, 20): 14672384, (5, 20): 0, (6, 18): 3463680, (1, 19): 5604352, (8, 20): 11208704, (1, 18): 2802176, (0, 18): 3463680, (7, 18): 2802176, (6, 19): 9068032, (1, 20): 14672384}\n"
     ]
    },
    {
     "data": {
      "text/plain": [
       "14672384"
      ]
     },
     "execution_count": 77,
     "metadata": {},
     "output_type": "execute_result"
    }
   ],
   "source": [
    "count_without_generate(1, 20)"
   ]
  },
  {
   "cell_type": "code",
   "execution_count": 79,
   "metadata": {},
   "outputs": [],
   "source": [
    "def call_twice(func):\n",
    "    def wrapper():\n",
    "        print(\"I am wrapping this\")\n",
    "        func()\n",
    "        func()\n",
    "        \n",
    "    return wrapper\n",
    "\n",
    "def say_hello():\n",
    "    print(\"hello\")\n",
    "\n",
    "\n",
    "# hello_twice = call_twice(say_hello)\n",
    "# hello_twice()\n"
   ]
  },
  {
   "cell_type": "code",
   "execution_count": 80,
   "metadata": {},
   "outputs": [
    {
     "name": "stdout",
     "output_type": "stream",
     "text": [
      "I am wrapping this\n",
      "hello\n",
      "hello\n"
     ]
    }
   ],
   "source": [
    "say_hello()"
   ]
  },
  {
   "cell_type": "code",
   "execution_count": 82,
   "metadata": {},
   "outputs": [],
   "source": [
    "from functools import lru_cache"
   ]
  },
  {
   "cell_type": "code",
   "execution_count": null,
   "metadata": {},
   "outputs": [],
   "source": []
  }
 ],
 "metadata": {
  "kernelspec": {
   "display_name": "Python 3.7.7 64-bit ('kitchen_sink': venv)",
   "language": "python",
   "name": "python37764bitkitchensinkvenv11d0a282e83d4c07b26c446500cb8ddf"
  },
  "language_info": {
   "codemirror_mode": {
    "name": "ipython",
    "version": 3
   },
   "file_extension": ".py",
   "mimetype": "text/x-python",
   "name": "python",
   "nbconvert_exporter": "python",
   "pygments_lexer": "ipython3",
   "version": "3.8.2"
  }
 },
 "nbformat": 4,
 "nbformat_minor": 4
}
