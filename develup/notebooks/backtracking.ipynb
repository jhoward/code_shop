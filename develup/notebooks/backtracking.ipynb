{
 "cells": [
  {
   "cell_type": "markdown",
   "metadata": {},
   "source": [
    "# Backtracking\n",
    "\n",
    "Lets first start with a toy problem to motivate the need for backtracking\n",
    "\n",
    "\n",
    "### Example - Generate Parentheses Pairs\n",
    "\n",
    "Given n pairs of parentheses, write a function to generate all combinations of well-formed parentheses.\n",
    "```\n",
    "input: \n",
    "n=3\n",
    "\n",
    "output:\n",
    "[\n",
    "  \"((()))\",\n",
    "  \"(()())\",\n",
    "  \"(())()\",\n",
    "  \"()(())\",\n",
    "  \"()()()\"\n",
    "]\n",
    "```"
   ]
  },
  {
   "cell_type": "code",
   "execution_count": 77,
   "metadata": {},
   "outputs": [
    {
     "name": "stdout",
     "output_type": "stream",
     "text": [
      "Sample run n=3 ['(((())))', '((()()))', '((())())', '((()))()', '(()(()))', '(()()())', '(()())()', '(())(())', '(())()()', '()((()))', '()(()())', '()(())()', '()()(())', '()()()()']\n"
     ]
    }
   ],
   "source": [
    "ans = []\n",
    "\n",
    "def generate_parens_bf(n, current = []):\n",
    "    if len(current) == 2*n:\n",
    "        if valid(current):\n",
    "            ans.append(\"\".join(current))\n",
    "    else:\n",
    "        current.append('(')\n",
    "        generate_parens_bf(n, current)\n",
    "        current.pop()\n",
    "        current.append(')')\n",
    "        generate_parens_bf(n, current)\n",
    "        current.pop()\n",
    "\n",
    "def valid(current):\n",
    "    bal = 0\n",
    "    for c in current:\n",
    "        if c == '(': \n",
    "            bal += 1\n",
    "        else: \n",
    "            bal -= 1\n",
    "        if bal < 0: \n",
    "            return False\n",
    "    return bal == 0\n",
    "\n",
    "generate_parens_bf(4)\n",
    "print(\"Sample run n=3\", ans)"
   ]
  },
  {
   "cell_type": "markdown",
   "metadata": {},
   "source": [
    "But this soluiton is really inefficient and doesn't scale with large n.  Even an n of 10 is problematic here. \n",
    "\n",
    "Run time complexity: ```O(n * 2^(2n))```"
   ]
  },
  {
   "cell_type": "markdown",
   "metadata": {},
   "source": [
    "### Backtracking Overview - \n",
    "\n",
    "Pseudo code\n",
    "\n",
    "```\n",
    "def find_solutions(n, other_params) :\n",
    "    if (found a solution):\n",
    "        # Save your solution\n",
    "        solutions_found = solutions_found + 1\n",
    "\n",
    "    for (val = first to last):\n",
    "        if (is_valid(val, n)):\n",
    "            apply_value(val, n)\n",
    "            find_solutions(n+1, other_params)\n",
    "            remove_value(val, n)\n",
    "```            \n"
   ]
  },
  {
   "cell_type": "code",
   "execution_count": 64,
   "metadata": {},
   "outputs": [
    {
     "name": "stdout",
     "output_type": "stream",
     "text": [
      "Sample run n=3 ['((()))', '(()())', '(())()', '()(())', '()()()']\n"
     ]
    }
   ],
   "source": [
    "def generate_parens_bt(n):\n",
    "    ans = []\n",
    "    def backtrack(current = '', left = 0, right = 0):\n",
    "        if len(current) == 2 * n:\n",
    "            ans.append(current)\n",
    "            return\n",
    "        \n",
    "        # For loop part\n",
    "        if left < n: # Is Valid\n",
    "            backtrack(current+'(', left+1, right)\n",
    "        if right < left: # Is valid\n",
    "            backtrack(current+')', left, right+1)\n",
    "\n",
    "    backtrack()\n",
    "    return ans\n",
    "    \n",
    "print(\"Sample run n=3\", generate_parens_bt(3))\n"
   ]
  },
  {
   "cell_type": "markdown",
   "metadata": {},
   "source": [
    "Much better!\n",
    "\n",
    "Runtime complexity: ```O((4^n) / sqrt(n))```\t"
   ]
  },
  {
   "cell_type": "code",
   "execution_count": 78,
   "metadata": {},
   "outputs": [
    {
     "name": "stdout",
     "output_type": "stream",
     "text": [
      "Brute Force\n",
      "949 µs ± 12.9 µs per loop (mean ± std. dev. of 7 runs, 1000 loops each)\n",
      "Backtracking\n",
      "64.7 µs ± 2.69 µs per loop (mean ± std. dev. of 7 runs, 1000 loops each)\n"
     ]
    }
   ],
   "source": [
    "print(\"Brute Force\")\n",
    "%timeit -n1000 generate_parens_bf(5)\n",
    "print(\"Backtracking\")\n",
    "%timeit -n1000 generate_parens_bt(5)"
   ]
  },
  {
   "cell_type": "code",
   "execution_count": 258,
   "metadata": {},
   "outputs": [],
   "source": [
    "board = [['.', '3', '.', '.', '.', '.', '.', '.', '.'], \n",
    "         ['.', '.', '.', '1', '.', '.', '.', '.', '.'], \n",
    "         ['.', '.', '.', '3', '.', '.', '.', '6', '.'], \n",
    "         ['.', '5', '9', '7', '.', '1', '4', '2', '.'], \n",
    "         ['4', '2', '6', '8', '5', '3', '7', '9', '1'], \n",
    "         ['.', '.', '3', '9', '.', '4', '8', '5', '6'], \n",
    "         ['.', '6', '1', '5', '.', '.', '.', '.', '4'], \n",
    "         ['.', '.', '7', '4', '1', '9', '6', '.', '5'], \n",
    "         ['.', '.', '.', '.', '8', '.', '.', '.', '9']]\n",
    "\n",
    "# board = [['.', '.', '.', '.', '.', '.', '.', '.', '.'], \n",
    "#          ['.', '.', '.', '.', '.', '.', '.', '.', '.'],\n",
    "#          ['.', '.', '.', '.', '.', '.', '.', '.', '.'],\n",
    "#          ['.', '.', '.', '.', '.', '.', '.', '.', '.'],\n",
    "#          ['.', '.', '.', '.', '.', '.', '.', '.', '.'],\n",
    "#          ['.', '.', '.', '.', '.', '.', '.', '.', '.'],\n",
    "#          ['.', '.', '.', '.', '.', '.', '.', '.', '.'],\n",
    "#          ['.', '.', '.', '.', '.', '.', '.', '.', '.'],\n",
    "#          ['.', '.', '.', '.', '.', '.', '.', '.', '.']]"
   ]
  },
  {
   "cell_type": "code",
   "execution_count": 259,
   "metadata": {},
   "outputs": [],
   "source": [
    "class Sudoku_Solver:\n",
    "    \n",
    "    def is_valid_square(self, board, row, col):\n",
    "        row_square = (row // 3) * 3\n",
    "        col_square = (col // 3) * 3\n",
    "        \n",
    "        contents = {}\n",
    "        for i in range(row_square, row_square + 3):\n",
    "            for j in range(col_square, col_square + 3):\n",
    "                c = board[i][j]\n",
    "                if c.isdigit() and c in contents:\n",
    "                    return False\n",
    "                contents[c] = 1\n",
    "        return True\n",
    "    \n",
    "    def is_valid_row(self, board, row):\n",
    "        contents = {}\n",
    "        for c in board[row]:\n",
    "            if c.isdigit() and c in contents:\n",
    "                return False\n",
    "            contents[c] = 1\n",
    "        return True\n",
    "            \n",
    "    def is_valid_col(self, board, col):\n",
    "        contents = {}\n",
    "        for i in range(9):\n",
    "            c = board[i][col]\n",
    "            if c.isdigit() and c in contents:\n",
    "                return False\n",
    "            contents[c] = 1\n",
    "        return True\n",
    "    \n",
    "    def backtrack(self, board, i=0, j=0):\n",
    "        self.counter += 1\n",
    "        # i = row\n",
    "        # j = col\n",
    "\n",
    "        # Check for valid soluiton\n",
    "        valid = True\n",
    "        for row in range(9):\n",
    "            for col in range(9):\n",
    "                if not board[row][col].isdigit():\n",
    "                    valid = False\n",
    "        \n",
    "        if valid:\n",
    "            self.solutions.append(board)\n",
    "            return True\n",
    "        \n",
    "        if board[i][j].isdigit():\n",
    "            if j == 8:\n",
    "                return self.backtrack(board, i + 1, 0)\n",
    "            else:\n",
    "                return self.backtrack(board, i, j+1)\n",
    "        \n",
    "        # On a \".\" position\n",
    "        for num in range(1, 10):\n",
    "            board[i][j] = str(num)\n",
    "            # check validity\n",
    "            if self.is_valid_row(board, i) and self.is_valid_col(board, j) and self.is_valid_square(board, i, j):\n",
    "                self.backtrack(board, i, j)\n",
    "            \n",
    "            board[i][j] = \".\"\n",
    "        #print(\"End of function\")\n",
    "        return False\n",
    "    \n",
    "    def is_board_valid(self, board):\n",
    "        for i in range(9):\n",
    "            for j in range(9):\n",
    "                if not (self.is_valid_row(board, i) and self.is_valid_col(board, j) and self.is_valid_square(board, i, j)):\n",
    "                    return False\n",
    "\n",
    "        return True\n",
    "    \n",
    "    def solve_sudoku(self, board):\n",
    "        self.solutions = []\n",
    "        self.counter = 0\n",
    "\n",
    "        if self.is_board_valid(board):\n",
    "            #self.board = board\n",
    "            self.backtrack(board, 0, 0)\n",
    "        else:\n",
    "            print(\"board in invalid state initial board\")\n",
    "        return len(self.solutions)\n"
   ]
  },
  {
   "cell_type": "code",
   "execution_count": 261,
   "metadata": {},
   "outputs": [
    {
     "name": "stdout",
     "output_type": "stream",
     "text": [
      "Number solutions:  23\n",
      "Number of recursive calls: 193589\n"
     ]
    }
   ],
   "source": [
    "solver = Sudoku_Solver()\n",
    "print(\"Number solutions: \", solver.solve_sudoku(board))\n",
    "print(\"Number of recursive calls:\", solver.counter)"
   ]
  },
  {
   "cell_type": "code",
   "execution_count": null,
   "metadata": {},
   "outputs": [],
   "source": []
  }
 ],
 "metadata": {
  "kernelspec": {
   "display_name": "Python 3.7.7 64-bit ('kitchen_sink': venv)",
   "language": "python",
   "name": "python37764bitkitchensinkvenv11d0a282e83d4c07b26c446500cb8ddf"
  },
  "language_info": {
   "codemirror_mode": {
    "name": "ipython",
    "version": 3
   },
   "file_extension": ".py",
   "mimetype": "text/x-python",
   "name": "python",
   "nbconvert_exporter": "python",
   "pygments_lexer": "ipython3",
   "version": "3.8.2"
  }
 },
 "nbformat": 4,
 "nbformat_minor": 4
}
