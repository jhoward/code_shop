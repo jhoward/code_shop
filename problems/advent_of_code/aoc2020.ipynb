{
 "cells": [
  {
   "cell_type": "markdown",
   "metadata": {},
   "source": [
    "# Day 1\n",
    "\n",
    "### [Day 1, part 1](https://adventofcode.com/2020/day/1)"
   ]
  },
  {
   "cell_type": "code",
   "execution_count": 1,
   "metadata": {},
   "outputs": [
    {
     "name": "stdout",
     "output_type": "stream",
     "text": [
      "(527, 1493) 786811\n"
     ]
    }
   ],
   "source": [
    "with open(\"./data/aoc2020_d1.txt\") as data_file:\n",
    "    data = [int(line) for line in data_file.readlines()]\n",
    "\n",
    "    \n",
    "# Find the two entries\n",
    "# Can keep a dictionary of every entry and look for the diff on each one\n",
    "def find_two_sum_target(data, target=2020):\n",
    "    searched = set()\n",
    "    \n",
    "    for d in data:\n",
    "        goal = target - d\n",
    "        if goal in searched:\n",
    "            return goal, d\n",
    "        searched.add(d)\n",
    "    return None, None\n",
    "\n",
    "vals = find_two_sum_target(data)\n",
    "print(vals, vals[0]*vals[1]) "
   ]
  },
  {
   "cell_type": "markdown",
   "metadata": {},
   "source": [
    "### [Day 1, Part2](https://adventofcode.com/2020/day/1#part2)"
   ]
  },
  {
   "cell_type": "code",
   "execution_count": 2,
   "metadata": {},
   "outputs": [
    {
     "name": "stdout",
     "output_type": "stream",
     "text": [
      "(1111, 289, 620) 199068980\n"
     ]
    }
   ],
   "source": [
    "def find_three_sum_target(data, target=2020):\n",
    "    searched = set()\n",
    "    \n",
    "    for i in range(0, len(data) - 1):\n",
    "        for j in range(i+1, len(data)):\n",
    "            goal = target - data[i] - data[j]\n",
    "            if goal in searched:\n",
    "                return goal, data[i], data[j]\n",
    "            \n",
    "        searched.add(data[i])\n",
    "    return None, None, None\n",
    "\n",
    "vals = find_three_sum_target(data)\n",
    "print(vals, vals[0]*vals[1]*vals[2])"
   ]
  },
  {
   "cell_type": "markdown",
   "metadata": {},
   "source": [
    "# Day 2\n",
    "\n",
    "### [Day 2 Part 1](https://adventofcode.com/2020/day/2)"
   ]
  },
  {
   "cell_type": "code",
   "execution_count": 3,
   "metadata": {},
   "outputs": [],
   "source": [
    "with open(\"./data/aoc2020_d2.txt\") as data_file:\n",
    "    data = [line.strip() for line in data_file.readlines()]"
   ]
  },
  {
   "cell_type": "code",
   "execution_count": 4,
   "metadata": {},
   "outputs": [
    {
     "name": "stdout",
     "output_type": "stream",
     "text": [
      "378\n"
     ]
    }
   ],
   "source": [
    "def is_valid_policy_one(line):\n",
    "    policy, letter, password = line.split(\" \")\n",
    "    letter = letter[:-1]\n",
    "    policy_min, policy_max = policy.split(\"-\")\n",
    "    policy_min, policy_max = int(policy_min), int(policy_max)\n",
    "    \n",
    "    count = 0\n",
    "    for l in password:\n",
    "        if l == letter:\n",
    "            count += 1\n",
    "            \n",
    "    if policy_min <= count <= policy_max:\n",
    "        return True\n",
    "    return False\n",
    "\n",
    "def count_valid(data, policy):\n",
    "    valid_lines = 0\n",
    "    for line in data:\n",
    "        if policy(line):\n",
    "            valid_lines += 1\n",
    "    return valid_lines\n",
    "        \n",
    "print(count_valid(data, is_valid_policy_one))"
   ]
  },
  {
   "cell_type": "markdown",
   "metadata": {},
   "source": [
    "### [Day 2, Part 2](https://adventofcode.com/2020/day/2#part2)"
   ]
  },
  {
   "cell_type": "code",
   "execution_count": 5,
   "metadata": {},
   "outputs": [
    {
     "name": "stdout",
     "output_type": "stream",
     "text": [
      "280\n"
     ]
    }
   ],
   "source": [
    "def is_valid_policy_two(line):\n",
    "    policy, letter, password = line.split(\" \")\n",
    "    letter = letter[:-1]\n",
    "    policy_min, policy_max = policy.split(\"-\")\n",
    "    policy_min, policy_max = int(policy_min), int(policy_max)\n",
    "    \n",
    "    if (password[policy_min-1] == letter)^(password[policy_max-1] == letter):\n",
    "            return True\n",
    "    return False\n",
    "\n",
    "print(count_valid(data, is_valid_policy_two))"
   ]
  },
  {
   "cell_type": "markdown",
   "metadata": {},
   "source": [
    "# Day 3\n",
    "\n",
    "### [Day 3, Part 1](https://adventofcode.com/2020/day/3)"
   ]
  },
  {
   "cell_type": "code",
   "execution_count": 8,
   "metadata": {},
   "outputs": [],
   "source": [
    "with open(\"./data/aoc2020_d3.txt\") as data_file:\n",
    "    data = [line.strip() for line in data_file.readlines()]"
   ]
  },
  {
   "cell_type": "code",
   "execution_count": 13,
   "metadata": {},
   "outputs": [
    {
     "name": "stdout",
     "output_type": "stream",
     "text": [
      "225\n"
     ]
    }
   ],
   "source": [
    "def count_trees(slope, right, down):\n",
    "    current_pos = 0\n",
    "    total_trees = 0\n",
    "\n",
    "    for i in range(0, len(slope), down):\n",
    "        line = slope[i]\n",
    "        if line[current_pos % len(line)] == '#':\n",
    "            total_trees += 1\n",
    "        current_pos += right\n",
    "    \n",
    "    return total_trees\n",
    "    \n",
    "print(count_trees(data, 3, 1))"
   ]
  },
  {
   "cell_type": "markdown",
   "metadata": {},
   "source": [
    "### [Day 3, Part 2](https://adventofcode.com/2020/day/3)"
   ]
  },
  {
   "cell_type": "code",
   "execution_count": 15,
   "metadata": {},
   "outputs": [
    {
     "name": "stdout",
     "output_type": "stream",
     "text": [
      "1115775000\n"
     ]
    }
   ],
   "source": [
    "tree_runs = [\n",
    "        count_trees(data, 1, 1),\n",
    "        count_trees(data, 3, 1),\n",
    "        count_trees(data, 5, 1),\n",
    "        count_trees(data, 7, 1),\n",
    "        count_trees(data, 1, 2),\n",
    "]\n",
    "\n",
    "total = 1\n",
    "for v in tree_runs:\n",
    "    total *= v\n",
    "\n",
    "print(total)"
   ]
  },
  {
   "cell_type": "markdown",
   "metadata": {},
   "source": [
    "# Day 4\n",
    "\n",
    "### [Day 4, Part 1](https://adventofcode.com/2020/day/4)"
   ]
  },
  {
   "cell_type": "code",
   "execution_count": 3,
   "metadata": {},
   "outputs": [
    {
     "data": {
      "text/plain": [
       "237"
      ]
     },
     "execution_count": 3,
     "metadata": {},
     "output_type": "execute_result"
    }
   ],
   "source": [
    "with open(\"./data/aoc2020_d4.txt\") as data_file:\n",
    "    data = [line.strip() for line in data_file.readlines()]\n",
    "\n",
    "targets = {\n",
    "    \"byr\",\n",
    "    \"iyr\",\n",
    "    \"eyr\",\n",
    "    \"hgt\",\n",
    "    \"hcl\",\n",
    "    \"ecl\",\n",
    "    \"pid\",\n",
    "}\n",
    "\n",
    "def count_passports(data, targets):\n",
    "    \n",
    "    current = set()\n",
    "    total = 0\n",
    "    counted = False\n",
    "    \n",
    "    for line in data:\n",
    "        if line == \"\":\n",
    "            current = set()\n",
    "            counted = False\n",
    "            \n",
    "        for key in line.split(\" \"):\n",
    "            if key.split(\":\")[0] in targets:\n",
    "                current.add(key.split(\":\")[0])\n",
    "                \n",
    "        if counted == False and len(targets - current) == 0:\n",
    "            total += 1\n",
    "            counted = True\n",
    "        \n",
    "    return total\n",
    "\n",
    "count_passports(data, targets)"
   ]
  },
  {
   "cell_type": "code",
   "execution_count": 21,
   "metadata": {},
   "outputs": [
    {
     "data": {
      "text/plain": [
       "172"
      ]
     },
     "execution_count": 21,
     "metadata": {},
     "output_type": "execute_result"
    }
   ],
   "source": [
    "def count_passports(data, targets):\n",
    "    \n",
    "    current = set()\n",
    "    total = 0\n",
    "    counted = False\n",
    "    \n",
    "    for line in data:\n",
    "        if line == \"\":\n",
    "#             print(current)\n",
    "            current = set()\n",
    "            counted = False\n",
    "            \n",
    "        for element in line.split(\" \"):\n",
    "#             print(element)\n",
    "            if len(element.split(\":\")) != 2:\n",
    "                continue\n",
    "            \n",
    "            key, value = element.split(\":\")[0], element.split(\":\")[1]\n",
    "            \n",
    "            # check directly\n",
    "            if key == \"byr\" and len(value) == 4:\n",
    "                if 1920 <= int(value) <= 2002:\n",
    "                    current.add(key)\n",
    "            \n",
    "            if key == \"iyr\" and len(value) == 4:\n",
    "                if 2010 <= int(value) <= 2020:\n",
    "                    current.add(key)\n",
    "\n",
    "            if key == \"eyr\" and len(value) == 4:\n",
    "                if 2020 <= int(value) <= 2030:\n",
    "                    current.add(key)\n",
    "            \n",
    "            if key == \"hgt\" and len(value) >= 3:\n",
    "                try:\n",
    "                    hgt_val = int(value[:-2])\n",
    "                except:\n",
    "                    continue\n",
    "#                 print(hgt_val)\n",
    "                    \n",
    "                if value.strip()[-2:] == \"cm\":\n",
    "                    if 150 <= hgt_val <= 193:\n",
    "                        current.add(key)\n",
    "                        \n",
    "                if value[-2:] == \"in\":\n",
    "                    if 59 <= hgt_val <= 76:\n",
    "                        current.add(key)\n",
    "                        \n",
    "            if key == \"hcl\" and len(value) == 7:\n",
    "                if value[0] == \"#\":\n",
    "                    try: \n",
    "                        int(value[1:], 16)\n",
    "                        current.add(key)\n",
    "                    except:\n",
    "                        pass\n",
    "                    \n",
    "            if key == \"ecl\":\n",
    "                if value in {'amb', 'blu', 'brn', 'gry', 'grn', 'hzl', 'oth'}:\n",
    "                    current.add(key)\n",
    "                    \n",
    "            if key == \"pid\" and len(value) == 9:\n",
    "                try:\n",
    "                    int(value)\n",
    "                    current.add(key)\n",
    "                except:\n",
    "                    pass\n",
    "                \n",
    "        if counted == False and len(targets - current) == 0:\n",
    "            total += 1\n",
    "            counted = True\n",
    "        \n",
    "    return total\n",
    "\n",
    "count_passports(data, targets)"
   ]
  },
  {
   "cell_type": "code",
   "execution_count": null,
   "metadata": {},
   "outputs": [],
   "source": []
  },
  {
   "cell_type": "code",
   "execution_count": null,
   "metadata": {},
   "outputs": [],
   "source": []
  }
 ],
 "metadata": {
  "kernelspec": {
   "display_name": "Python 3",
   "language": "python",
   "name": "python3"
  },
  "language_info": {
   "codemirror_mode": {
    "name": "ipython",
    "version": 3
   },
   "file_extension": ".py",
   "mimetype": "text/x-python",
   "name": "python",
   "nbconvert_exporter": "python",
   "pygments_lexer": "ipython3",
   "version": "3.9.0"
  }
 },
 "nbformat": 4,
 "nbformat_minor": 4
}
