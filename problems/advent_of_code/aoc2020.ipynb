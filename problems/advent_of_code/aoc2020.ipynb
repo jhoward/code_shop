{
 "cells": [
  {
   "cell_type": "markdown",
   "metadata": {},
   "source": [
    "# Day 1\n",
    "\n",
    "### [Day 1, part 1](https://adventofcode.com/2020/day/1)"
   ]
  },
  {
   "cell_type": "code",
   "execution_count": 9,
   "metadata": {},
   "outputs": [
    {
     "name": "stdout",
     "output_type": "stream",
     "text": [
      "(527, 1493) 786811\n"
     ]
    }
   ],
   "source": [
    "with open(\"./data/aoc2020_d1_1.txt\") as data_file:\n",
    "    data = [int(line) for line in data_file.readlines()]\n",
    "\n",
    "    \n",
    "# Find the two entries\n",
    "# Can keep a dictionary of every entry and look for the diff on each one\n",
    "def find_two_sum_target(data, target=2020):\n",
    "    searched = set()\n",
    "    \n",
    "    for d in data:\n",
    "        goal = target - d\n",
    "        if goal in searched:\n",
    "            return goal, d\n",
    "        searched.add(d)\n",
    "    return None, None\n",
    "\n",
    "vals = find_two_sum_target(data)\n",
    "print(vals, vals[0]*vals[1]) "
   ]
  },
  {
   "cell_type": "markdown",
   "metadata": {},
   "source": [
    "### [Day 1, Part2](https://adventofcode.com/2020/day/1#part2)"
   ]
  },
  {
   "cell_type": "code",
   "execution_count": 13,
   "metadata": {},
   "outputs": [
    {
     "name": "stdout",
     "output_type": "stream",
     "text": [
      "(1111, 289, 620) 199068980\n"
     ]
    }
   ],
   "source": [
    "def find_three_sum_target(data, target=2020):\n",
    "    searched = set()\n",
    "    \n",
    "    for i in range(0, len(data) - 1):\n",
    "        for j in range(i+1, len(data)):\n",
    "            goal = target - data[i] - data[j]\n",
    "            if goal in searched:\n",
    "                return goal, data[i], data[j]\n",
    "            \n",
    "        searched.add(data[i])\n",
    "    return None, None, None\n",
    "\n",
    "vals = find_three_sum_target(data)\n",
    "print(vals, vals[0]*vals[1]*vals[2])"
   ]
  },
  {
   "cell_type": "code",
   "execution_count": null,
   "metadata": {},
   "outputs": [],
   "source": []
  }
 ],
 "metadata": {
  "kernelspec": {
   "display_name": "Python 3",
   "language": "python",
   "name": "python3"
  },
  "language_info": {
   "codemirror_mode": {
    "name": "ipython",
    "version": 3
   },
   "file_extension": ".py",
   "mimetype": "text/x-python",
   "name": "python",
   "nbconvert_exporter": "python",
   "pygments_lexer": "ipython3",
   "version": "3.9.0"
  }
 },
 "nbformat": 4,
 "nbformat_minor": 4
}
