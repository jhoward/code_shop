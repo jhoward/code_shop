{
 "cells": [
  {
   "cell_type": "code",
   "execution_count": 1,
   "id": "0bad6bf5",
   "metadata": {},
   "outputs": [],
   "source": [
    "from aocutils import get_data, peek"
   ]
  },
  {
   "cell_type": "markdown",
   "id": "402f1cf3",
   "metadata": {},
   "source": [
    "# Day 1: Historian Hysteria\n"
   ]
  },
  {
   "cell_type": "code",
   "execution_count": 13,
   "id": "bd29c5a4",
   "metadata": {},
   "outputs": [],
   "source": [
    "data = get_data(1, 2024, str)"
   ]
  },
  {
   "cell_type": "code",
   "execution_count": 14,
   "id": "b14bcfa6",
   "metadata": {},
   "outputs": [
    {
     "data": {
      "text/plain": [
       "('58990   83989',\n",
       " '26183   15707',\n",
       " '48195   12659',\n",
       " '20176   26012',\n",
       " '26730   42699')"
      ]
     },
     "execution_count": 14,
     "metadata": {},
     "output_type": "execute_result"
    }
   ],
   "source": [
    "data[:5]"
   ]
  },
  {
   "cell_type": "markdown",
   "id": "aa598499",
   "metadata": {},
   "source": [
    "### Part 1"
   ]
  },
  {
   "cell_type": "code",
   "execution_count": 15,
   "id": "ac0a29b4",
   "metadata": {},
   "outputs": [],
   "source": [
    "def split_tuple(x: str):\n",
    "    x_split = x.split(\" \")\n",
    "    return (int(x_split[0]), int(x_split[-1]))\n",
    "\n",
    "data = [split_tuple(x) for x in data]"
   ]
  },
  {
   "cell_type": "code",
   "execution_count": 17,
   "id": "e9f8d272",
   "metadata": {},
   "outputs": [],
   "source": [
    "left = [x[0] for x in data]\n",
    "right = [x[1] for x in data]\n",
    "\n",
    "left.sort()\n",
    "right.sort()"
   ]
  },
  {
   "cell_type": "code",
   "execution_count": 25,
   "id": "9a857c46",
   "metadata": {},
   "outputs": [
    {
     "name": "stdout",
     "output_type": "stream",
     "text": [
      "2113135\n"
     ]
    }
   ],
   "source": [
    "total = 0\n",
    "for x, y in zip(left, right):\n",
    "    total += abs(x - y)\n",
    "print(total)"
   ]
  },
  {
   "cell_type": "markdown",
   "id": "422ea9de",
   "metadata": {},
   "source": [
    "### Part 2"
   ]
  },
  {
   "cell_type": "code",
   "execution_count": 26,
   "id": "b7628c8b",
   "metadata": {},
   "outputs": [],
   "source": [
    "from collections import defaultdict\n",
    "\n",
    "right_counts = defaultdict(int)\n",
    "for x in right:\n",
    "    right_counts[x] += 1"
   ]
  },
  {
   "cell_type": "code",
   "execution_count": 27,
   "id": "f3234c83",
   "metadata": {},
   "outputs": [
    {
     "name": "stdout",
     "output_type": "stream",
     "text": [
      "19097157\n"
     ]
    }
   ],
   "source": [
    "similarity = 0\n",
    "for x in left:\n",
    "    similarity += x * right_counts[x]\n",
    "print(similarity)"
   ]
  },
  {
   "cell_type": "code",
   "execution_count": null,
   "id": "f7128939",
   "metadata": {},
   "outputs": [],
   "source": []
  }
 ],
 "metadata": {
  "kernelspec": {
   "display_name": "Python 3 (ipykernel)",
   "language": "python",
   "name": "python3"
  },
  "language_info": {
   "codemirror_mode": {
    "name": "ipython",
    "version": 3
   },
   "file_extension": ".py",
   "mimetype": "text/x-python",
   "name": "python",
   "nbconvert_exporter": "python",
   "pygments_lexer": "ipython3",
   "version": "3.11.3"
  }
 },
 "nbformat": 4,
 "nbformat_minor": 5
}
