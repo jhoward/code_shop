{
 "cells": [
  {
   "cell_type": "code",
   "execution_count": 37,
   "id": "ab266818",
   "metadata": {},
   "outputs": [],
   "source": [
    "import os\n",
    "\n",
    "\n",
    "def get_data(day, year, parser):\n",
    "    with open(os.path.join(\"data\", str(year), f'input_{day}.txt')) as raw_data:\n",
    "        data = tuple(map(parser, raw_data))\n",
    "        return data\n",
    "    return None\n",
    "\n"
   ]
  },
  {
   "cell_type": "markdown",
   "id": "91ad5d42",
   "metadata": {},
   "source": [
    "# Day 1: Sonar Sweep\n",
    "\n",
    "**Input Data**"
   ]
  },
  {
   "cell_type": "code",
   "execution_count": 52,
   "id": "812f82c3",
   "metadata": {},
   "outputs": [],
   "source": [
    "data = get_data(1, 2021, int)"
   ]
  },
  {
   "cell_type": "markdown",
   "id": "e2f38469",
   "metadata": {},
   "source": [
    "**Part 1**\n",
    "\n",
    "How many increases from previous number"
   ]
  },
  {
   "cell_type": "code",
   "execution_count": 53,
   "id": "32188ca9",
   "metadata": {},
   "outputs": [
    {
     "name": "stdout",
     "output_type": "stream",
     "text": [
      "1532\n"
     ]
    }
   ],
   "source": [
    "increases = 0\n",
    "for l, n in zip(data[:-1], data[1:]):\n",
    "    if n > l:\n",
    "        increases += 1\n",
    "\n",
    "print(increases)"
   ]
  },
  {
   "cell_type": "markdown",
   "id": "f596dc40",
   "metadata": {},
   "source": [
    "**Part 2**\n",
    "\n",
    "How many increases for a three measurement sliding window compared to the previous window"
   ]
  },
  {
   "cell_type": "code",
   "execution_count": 56,
   "id": "afe7bbcd",
   "metadata": {},
   "outputs": [
    {
     "name": "stdout",
     "output_type": "stream",
     "text": [
      "1571\n"
     ]
    }
   ],
   "source": [
    "increases = 0\n",
    "window_1 = sum(data[0:3])\n",
    "for i in range(4, len(data) + 1):\n",
    "    window_2 = sum(data[i-3:i])\n",
    "    \n",
    "    if window_2 > window_1:\n",
    "        increases += 1\n",
    "    window_1 = window_2\n",
    "        \n",
    "print(increases)"
   ]
  }
 ],
 "metadata": {
  "kernelspec": {
   "display_name": "Python 3 (ipykernel)",
   "language": "python",
   "name": "python3"
  },
  "language_info": {
   "codemirror_mode": {
    "name": "ipython",
    "version": 3
   },
   "file_extension": ".py",
   "mimetype": "text/x-python",
   "name": "python",
   "nbconvert_exporter": "python",
   "pygments_lexer": "ipython3",
   "version": "3.9.9"
  }
 },
 "nbformat": 4,
 "nbformat_minor": 5
}
